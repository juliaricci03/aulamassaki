{
  "nbformat": 4,
  "nbformat_minor": 0,
  "metadata": {
    "colab": {
      "provenance": [],
      "authorship_tag": "ABX9TyNoRSaU6WrqcdYemKBNa0kZ",
      "include_colab_link": true
    },
    "kernelspec": {
      "name": "python3",
      "display_name": "Python 3"
    },
    "language_info": {
      "name": "python"
    }
  },
  "cells": [
    {
      "cell_type": "markdown",
      "metadata": {
        "id": "view-in-github",
        "colab_type": "text"
      },
      "source": [
        "<a href=\"https://colab.research.google.com/github/juliaricci03/aulamassaki/blob/main/Estudoprova1.ipynb\" target=\"_parent\"><img src=\"https://colab.research.google.com/assets/colab-badge.svg\" alt=\"Open In Colab\"/></a>"
      ]
    },
    {
      "cell_type": "code",
      "execution_count": 4,
      "metadata": {
        "colab": {
          "base_uri": "https://localhost:8080/"
        },
        "id": "QHDntxCJCEMu",
        "outputId": "f9c6711c-7cb7-42c4-a140-b2a25d5c18b9"
      },
      "outputs": [
        {
          "output_type": "stream",
          "name": "stdout",
          "text": [
            "Eu amo a Isabela muito\n"
          ]
        }
      ],
      "source": [
        "print(\"Eu amo a Isabela muito\")"
      ]
    },
    {
      "cell_type": "code",
      "source": [
        "1+1"
      ],
      "metadata": {
        "colab": {
          "base_uri": "https://localhost:8080/"
        },
        "id": "97AIALFdDivn",
        "outputId": "c452ce9c-c304-4e55-e031-09cba9e63c68"
      },
      "execution_count": 5,
      "outputs": [
        {
          "output_type": "execute_result",
          "data": {
            "text/plain": [
              "2"
            ]
          },
          "metadata": {},
          "execution_count": 5
        }
      ]
    },
    {
      "cell_type": "code",
      "source": [
        "\"Isabela\" + \"Trevizan\""
      ],
      "metadata": {
        "colab": {
          "base_uri": "https://localhost:8080/",
          "height": 36
        },
        "id": "R7p2Wh0EDmAi",
        "outputId": "b5548f98-6c97-4398-fbc9-2f379f714584"
      },
      "execution_count": 7,
      "outputs": [
        {
          "output_type": "execute_result",
          "data": {
            "text/plain": [
              "'IsabelaTrevizan'"
            ],
            "application/vnd.google.colaboratory.intrinsic+json": {
              "type": "string"
            }
          },
          "metadata": {},
          "execution_count": 7
        }
      ]
    },
    {
      "cell_type": "code",
      "source": [
        "x = 4 + 6\n",
        "x"
      ],
      "metadata": {
        "colab": {
          "base_uri": "https://localhost:8080/"
        },
        "id": "c1zMmleaDuZc",
        "outputId": "d65f644b-c9f9-49bd-d185-1bb476f2b958"
      },
      "execution_count": 12,
      "outputs": [
        {
          "output_type": "execute_result",
          "data": {
            "text/plain": [
              "10"
            ]
          },
          "metadata": {},
          "execution_count": 12
        }
      ]
    },
    {
      "cell_type": "code",
      "source": [
        "#Fazer comentário\n",
        "a = input(\"Digite a: \")\n",
        "b = input(\"Digite a b: \")\n",
        "soma = int(a) + int(b)\n",
        "print(soma)"
      ],
      "metadata": {
        "colab": {
          "base_uri": "https://localhost:8080/"
        },
        "id": "841DI543Sa6H",
        "outputId": "8cec1c08-a17d-4f06-afe7-951d64c8541e"
      },
      "execution_count": 15,
      "outputs": [
        {
          "output_type": "stream",
          "name": "stdout",
          "text": [
            "Digite a: 2\n",
            "Digite a b: 3\n",
            "5\n"
          ]
        }
      ]
    },
    {
      "cell_type": "code",
      "source": [
        "for i in range (11):\n",
        "    print(i)\n",
        "#o espaço do print foi feito através da tecla tab"
      ],
      "metadata": {
        "colab": {
          "base_uri": "https://localhost:8080/"
        },
        "id": "34MHvwtMTeQf",
        "outputId": "adbd0ef3-059a-48b7-f90e-2c79ade29195"
      },
      "execution_count": 17,
      "outputs": [
        {
          "output_type": "stream",
          "name": "stdout",
          "text": [
            "0\n",
            "1\n",
            "2\n",
            "3\n",
            "4\n",
            "5\n",
            "6\n",
            "7\n",
            "8\n",
            "9\n",
            "10\n"
          ]
        }
      ]
    },
    {
      "cell_type": "code",
      "source": [
        "#OPERADORES ARITMÉTICOS\n",
        "print(2+3) #SOMA\n",
        "print(2-3) #SUBTRAÇÃO\n",
        "print(2*3) #MULTIPLICAÇÃO\n",
        "print(2/3) #DIVISÃO\n",
        "print(2//3) #DIVISÃO TRUNCADA\n",
        "print(2%3) #MÓDULO RESTO\n",
        "print(2**3) #EXPONENCIAÇÃO\n",
        "# == IGUAL\n",
        "# != NÃO IGUAL\n",
        "# < MENOR\n",
        "# > MAIOR\n",
        "# <= MENOR OU IGUAL\n",
        "# >= MAIOR OU IGUAL\n",
        "# AND = E\n",
        "# OR = OU\n",
        "# NOT = NEGAÇÃO\n"
      ],
      "metadata": {
        "colab": {
          "base_uri": "https://localhost:8080/"
        },
        "id": "qP3zUViKUMiA",
        "outputId": "eef923a9-8243-44a2-f119-33392cfe5a33"
      },
      "execution_count": 19,
      "outputs": [
        {
          "output_type": "stream",
          "name": "stdout",
          "text": [
            "5\n",
            "-1\n",
            "6\n",
            "0.6666666666666666\n",
            "0\n",
            "2\n",
            "8\n"
          ]
        }
      ]
    }
  ]
}