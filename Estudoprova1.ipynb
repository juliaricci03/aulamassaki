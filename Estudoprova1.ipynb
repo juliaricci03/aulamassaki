{
  "nbformat": 4,
  "nbformat_minor": 0,
  "metadata": {
    "colab": {
      "provenance": [],
      "authorship_tag": "ABX9TyMg7Xfolkla6mH89CvEMAW/",
      "include_colab_link": true
    },
    "kernelspec": {
      "name": "python3",
      "display_name": "Python 3"
    },
    "language_info": {
      "name": "python"
    }
  },
  "cells": [
    {
      "cell_type": "markdown",
      "metadata": {
        "id": "view-in-github",
        "colab_type": "text"
      },
      "source": [
        "<a href=\"https://colab.research.google.com/github/juliaricci03/aulamassaki/blob/main/Estudoprova1.ipynb\" target=\"_parent\"><img src=\"https://colab.research.google.com/assets/colab-badge.svg\" alt=\"Open In Colab\"/></a>"
      ]
    },
    {
      "cell_type": "code",
      "execution_count": null,
      "metadata": {
        "colab": {
          "base_uri": "https://localhost:8080/"
        },
        "id": "QHDntxCJCEMu",
        "outputId": "3befa521-6db0-4509-8cbd-2d193ad69d7f"
      },
      "outputs": [
        {
          "output_type": "stream",
          "name": "stdout",
          "text": [
            "Meu nome é Julia\n"
          ]
        }
      ],
      "source": [
        "print(\"Meu nome é Julia\")"
      ]
    },
    {
      "cell_type": "code",
      "source": [
        "1+1"
      ],
      "metadata": {
        "colab": {
          "base_uri": "https://localhost:8080/"
        },
        "id": "97AIALFdDivn",
        "outputId": "c452ce9c-c304-4e55-e031-09cba9e63c68"
      },
      "execution_count": null,
      "outputs": [
        {
          "output_type": "execute_result",
          "data": {
            "text/plain": [
              "2"
            ]
          },
          "metadata": {},
          "execution_count": 5
        }
      ]
    },
    {
      "cell_type": "code",
      "source": [
        "\"Julia\" + \"Ricci\""
      ],
      "metadata": {
        "colab": {
          "base_uri": "https://localhost:8080/",
          "height": 36
        },
        "id": "R7p2Wh0EDmAi",
        "outputId": "902a7aad-5ede-43df-aada-9f7eba0fdaf7"
      },
      "execution_count": null,
      "outputs": [
        {
          "output_type": "execute_result",
          "data": {
            "text/plain": [
              "'JuliaRicci'"
            ],
            "application/vnd.google.colaboratory.intrinsic+json": {
              "type": "string"
            }
          },
          "metadata": {},
          "execution_count": 1
        }
      ]
    },
    {
      "cell_type": "code",
      "source": [
        "x = 4 + 6\n",
        "x"
      ],
      "metadata": {
        "colab": {
          "base_uri": "https://localhost:8080/"
        },
        "id": "c1zMmleaDuZc",
        "outputId": "d65f644b-c9f9-49bd-d185-1bb476f2b958"
      },
      "execution_count": null,
      "outputs": [
        {
          "output_type": "execute_result",
          "data": {
            "text/plain": [
              "10"
            ]
          },
          "metadata": {},
          "execution_count": 12
        }
      ]
    },
    {
      "cell_type": "code",
      "source": [
        "#Fazer comentário\n",
        "a = input(\"Digite a: \")\n",
        "b = input(\"Digite a b: \")\n",
        "soma = int(a) + int(b)\n",
        "print(soma)"
      ],
      "metadata": {
        "colab": {
          "base_uri": "https://localhost:8080/"
        },
        "id": "841DI543Sa6H",
        "outputId": "8cec1c08-a17d-4f06-afe7-951d64c8541e"
      },
      "execution_count": null,
      "outputs": [
        {
          "output_type": "stream",
          "name": "stdout",
          "text": [
            "Digite a: 2\n",
            "Digite a b: 3\n",
            "5\n"
          ]
        }
      ]
    },
    {
      "cell_type": "code",
      "source": [
        "for i in range (11):\n",
        "    print(i)\n",
        "#o espaço do print foi feito através da tecla tab"
      ],
      "metadata": {
        "colab": {
          "base_uri": "https://localhost:8080/"
        },
        "id": "34MHvwtMTeQf",
        "outputId": "adbd0ef3-059a-48b7-f90e-2c79ade29195"
      },
      "execution_count": null,
      "outputs": [
        {
          "output_type": "stream",
          "name": "stdout",
          "text": [
            "0\n",
            "1\n",
            "2\n",
            "3\n",
            "4\n",
            "5\n",
            "6\n",
            "7\n",
            "8\n",
            "9\n",
            "10\n"
          ]
        }
      ]
    },
    {
      "cell_type": "code",
      "source": [
        "#OPERADORES ARITMÉTICOS\n",
        "print(2+3) #SOMA\n",
        "print(2-3) #SUBTRAÇÃO\n",
        "print(2*3) #MULTIPLICAÇÃO\n",
        "print(2/3) #DIVISÃO\n",
        "print(2//3) #DIVISÃO TRUNCADA\n",
        "print(2%3) #MÓDULO RESTO\n",
        "print(2**3) #EXPONENCIAÇÃO\n",
        "# == IGUAL\n",
        "# != NÃO IGUAL\n",
        "# < MENOR\n",
        "# > MAIOR\n",
        "# <= MENOR OU IGUAL\n",
        "# >= MAIOR OU IGUAL\n",
        "# AND = E\n",
        "# OR = OU\n",
        "# NOT = NEGAÇÃO\n"
      ],
      "metadata": {
        "colab": {
          "base_uri": "https://localhost:8080/"
        },
        "id": "qP3zUViKUMiA",
        "outputId": "eef923a9-8243-44a2-f119-33392cfe5a33"
      },
      "execution_count": null,
      "outputs": [
        {
          "output_type": "stream",
          "name": "stdout",
          "text": [
            "5\n",
            "-1\n",
            "6\n",
            "0.6666666666666666\n",
            "0\n",
            "2\n",
            "8\n"
          ]
        }
      ]
    },
    {
      "cell_type": "code",
      "source": [
        "n3 = 20\n",
        "n4 = n3 * 10\n",
        "print(\"Resultado n3*n4 = \" + str(n4))\n",
        "print (n4)\n",
        "n3 = \"Mack\"\n",
        "print (n3)"
      ],
      "metadata": {
        "id": "Wxn1DI1hmJOA",
        "outputId": "3a7023a7-c34b-4c8f-a0a5-471ad0318bee",
        "colab": {
          "base_uri": "https://localhost:8080/"
        }
      },
      "execution_count": 1,
      "outputs": [
        {
          "output_type": "stream",
          "name": "stdout",
          "text": [
            "Resultado n3*n4 = 200\n",
            "200\n",
            "Mack\n"
          ]
        }
      ]
    },
    {
      "cell_type": "code",
      "source": [
        "x = 2                                 #tipo numérico\n",
        "p = 3.1415                            #tipo ponto flutuante\n",
        "verdadeiro = True                     #tipo booleano\n",
        "texto = 'isto é uma string'           #tipo string\n",
        "texto1 = \"isto também é uma string\"   #tipo string\n",
        "c = 3 + 2j                            #tipo número complexo\n",
        "\n",
        "print(x)\n",
        "print(p)\n",
        "print(verdadeiro)\n",
        "print(texto)\n",
        "print(texto1)"
      ],
      "metadata": {
        "id": "7cOHyLfDm6kd",
        "outputId": "7e5ab728-8122-4a2c-f1b2-676848ab5e86",
        "colab": {
          "base_uri": "https://localhost:8080/"
        }
      },
      "execution_count": 2,
      "outputs": [
        {
          "output_type": "stream",
          "name": "stdout",
          "text": [
            "2\n",
            "3.1415\n",
            "True\n",
            "isto é uma string\n",
            "isto também é uma string\n"
          ]
        }
      ]
    },
    {
      "cell_type": "markdown",
      "source": [
        "**Negrito**\n",
        "*Itálico*\n",
        "~Tachado~\n"
      ],
      "metadata": {
        "id": "1kFcKDkupuhQ"
      }
    },
    {
      "cell_type": "code",
      "source": [
        "n1 = int (input(\"Digite o valor 1: \"))\n",
        "n2 = int (input(\"Digite o valor 2: \"))\n",
        "n3 = 20\n",
        "n4 = n1 + n2 + n3\n",
        "print (\"Soma: \" + str(n4))"
      ],
      "metadata": {
        "id": "N1Zk6W5fqZn6",
        "outputId": "641c9cc8-4fc6-4158-d5e4-94dcc44c6037",
        "colab": {
          "base_uri": "https://localhost:8080/"
        }
      },
      "execution_count": 3,
      "outputs": [
        {
          "output_type": "stream",
          "name": "stdout",
          "text": [
            "Digite o valor 1: 3\n",
            "Digite o valor 2: 2\n",
            "Soma: 25\n"
          ]
        }
      ]
    },
    {
      "cell_type": "markdown",
      "source": [
        "=: Este símbolo é um operador de atribuição. Ele é usado para atribuir um valor a uma variável. Por exemplo:\n",
        "\n",
        "python\n",
        "Copiar código\n",
        "x = 5  # Atribui o valor 5 à variável x\n",
        "==: Este símbolo é um operador de comparação. Ele é usado para verificar se dois valores são iguais. Por exemplo:\n",
        "\n",
        "python\n",
        "Copiar código\n",
        "x == 5  # Retorna True se x for igual a 5, caso contrário, retorna False"
      ],
      "metadata": {
        "id": "oEtikmCMrko8"
      }
    },
    {
      "cell_type": "code",
      "source": [
        "peso = 120\n",
        "altura = 1.80\n",
        "ponto = '.'\n",
        "imc = peso / (altura ** 2)\n",
        "print(\"O IMC é:\", imc)"
      ],
      "metadata": {
        "id": "S4sOksaKrl-S",
        "outputId": "68639fe7-8ece-4f30-ace9-1a3774841fdd",
        "colab": {
          "base_uri": "https://localhost:8080/"
        }
      },
      "execution_count": 9,
      "outputs": [
        {
          "output_type": "stream",
          "name": "stdout",
          "text": [
            "O IMC é: 37.03703703703704\n"
          ]
        }
      ]
    },
    {
      "cell_type": "code",
      "source": [
        "peso = 25\n",
        "peso/2"
      ],
      "metadata": {
        "id": "I2AX1z3usnSh",
        "outputId": "ae0438ec-45c9-44e8-e94b-e5ef53a37d50",
        "colab": {
          "base_uri": "https://localhost:8080/"
        }
      },
      "execution_count": 11,
      "outputs": [
        {
          "output_type": "execute_result",
          "data": {
            "text/plain": [
              "12.5"
            ]
          },
          "metadata": {},
          "execution_count": 11
        }
      ]
    },
    {
      "cell_type": "code",
      "source": [
        "ponto * 5"
      ],
      "metadata": {
        "id": "qS4NZDO1s1jr",
        "outputId": "8fccac24-7e12-4ca1-cd26-735289a0bb77",
        "colab": {
          "base_uri": "https://localhost:8080/",
          "height": 36
        }
      },
      "execution_count": 12,
      "outputs": [
        {
          "output_type": "execute_result",
          "data": {
            "text/plain": [
              "'.....'"
            ],
            "application/vnd.google.colaboratory.intrinsic+json": {
              "type": "string"
            }
          },
          "metadata": {},
          "execution_count": 12
        }
      ]
    },
    {
      "cell_type": "code",
      "source": [
        "x = 'aa'\n",
        "y = x * 12\n",
        "print(y)\n"
      ],
      "metadata": {
        "id": "n_dv5OzXtJer",
        "outputId": "9c8b12a8-79cd-4955-9686-c316e0e74d69",
        "colab": {
          "base_uri": "https://localhost:8080/"
        }
      },
      "execution_count": 13,
      "outputs": [
        {
          "output_type": "stream",
          "name": "stdout",
          "text": [
            "aaaaaaaaaaaaaaaaaaaaaaaa\n"
          ]
        }
      ]
    },
    {
      "cell_type": "code",
      "source": [
        "a = input(\"Digite a: \")\n",
        "b = input(\"Digite b: \")\n",
        "soma = float(a)+float(b)\n",
        "print(soma)"
      ],
      "metadata": {
        "id": "rExyjyfNtfxM",
        "outputId": "eac1b54d-6ac4-45e5-9f44-8e0781422e26",
        "colab": {
          "base_uri": "https://localhost:8080/"
        }
      },
      "execution_count": 15,
      "outputs": [
        {
          "output_type": "stream",
          "name": "stdout",
          "text": [
            "Digite a: 3.5\n",
            "Digite b: 2.3\n",
            "5.8\n"
          ]
        }
      ]
    },
    {
      "cell_type": "code",
      "source": [
        "#ENTRADAS DO PROGRAMA\n",
        "a = float(input(\"Digite a:\"))\n",
        "b = float(input(\"Digite b:\"))\n",
        "#PROCESSAMENTOS\n",
        "soma = a + b\n",
        "subtracao = a - b\n",
        "multiplicacao = a * b\n",
        "divisao = a / b\n",
        "resto = a % b\n",
        "potencia = a ** b\n",
        "#SAÍDAS NA TELA\n",
        "print(\"Soma = \" + str(soma))\n",
        "print(\"Subtração = \" + str(subtracao))\n",
        "print(\"Multiplicação = \" + str(multiplicacao))\n",
        "print(\"Divisão = \" + str(divisao))\n",
        "print(\"Resto da divisao de a por b = \" + str(resto))\n",
        "print(\"a elevado a b = \" + str(potencia))\n"
      ],
      "metadata": {
        "id": "JymruiOqukUy",
        "outputId": "de1fa0c1-70c5-420e-d4c6-222f8ed54f79",
        "colab": {
          "base_uri": "https://localhost:8080/"
        }
      },
      "execution_count": 16,
      "outputs": [
        {
          "output_type": "stream",
          "name": "stdout",
          "text": [
            "Digite a:2\n",
            "Digite b:3\n",
            "Soma = 5.0\n",
            "Subtração = -1.0\n",
            "Multiplicação = 6.0\n",
            "Divisão = 0.6666666666666666\n",
            "Resto da divisao de a por b = 2.0\n",
            "a elevado a b = 8.0\n"
          ]
        }
      ]
    },
    {
      "cell_type": "code",
      "source": [
        "p1 = float(input(\"Digite nota p1:\"))\n",
        "p2 = float(input(\"Digite nota p2:\"))\n",
        "m = (p1 + p2)/2.0\n",
        "print(m)"
      ],
      "metadata": {
        "id": "VzK5O-WMuuHc",
        "outputId": "09f1b2d3-fd6b-475a-c35f-c3df93f97b99",
        "colab": {
          "base_uri": "https://localhost:8080/"
        }
      },
      "execution_count": 18,
      "outputs": [
        {
          "output_type": "stream",
          "name": "stdout",
          "text": [
            "Digite nota p1:5\n",
            "Digite nota p2:7\n",
            "6.0\n"
          ]
        }
      ]
    },
    {
      "cell_type": "code",
      "source": [
        "#ENTRADAS DO PROGRAMA\n",
        "p1 = float(input(\"Digite nota p1:\"))\n",
        "p2 = float(input(\"Digite nota p2:\"))\n",
        "#PROCESSAMENTO\n",
        "m = (p1+p2)/2.\n",
        "#SAÍDA NA TELA\n",
        "print(\"Média = \" + str(m))\n"
      ],
      "metadata": {
        "id": "QRpOSjExvSBr",
        "outputId": "363e737e-3971-4162-cf94-46bd8165d409",
        "colab": {
          "base_uri": "https://localhost:8080/"
        }
      },
      "execution_count": 20,
      "outputs": [
        {
          "output_type": "stream",
          "name": "stdout",
          "text": [
            "Digite nota p1:5\n",
            "Digite nota p2:7\n",
            "Média = 6.0\n"
          ]
        }
      ]
    },
    {
      "cell_type": "code",
      "source": [
        "valor1 = float(input(\"Digite o primeiro valor: \"))\n",
        "valor2 = float(input(\"Digite o segundo valor: \"))\n",
        "media = (valor1 + valor2) / 2\n",
        "print(f\"A média aritmética entre {valor1} e {valor2} é {media}.\")"
      ],
      "metadata": {
        "id": "aV2DkQ2Zx5QZ",
        "outputId": "11453f87-8d37-44f0-ab10-e8670f7eb9ca",
        "colab": {
          "base_uri": "https://localhost:8080/"
        }
      },
      "execution_count": 21,
      "outputs": [
        {
          "output_type": "stream",
          "name": "stdout",
          "text": [
            "Digite o primeiro valor: 5\n",
            "Digite o segundo valor: 7\n",
            "A média aritmética entre 5.0 e 7.0 é 6.0.\n"
          ]
        }
      ]
    },
    {
      "cell_type": "code",
      "source": [
        "b = int(input(\"Digite o valor da base do triângulo: \"))\n",
        "h = int(input(\"Digite o valor da altura do triângulo: \"))\n",
        "área = (b*h)/2.0\n",
        "print (área)"
      ],
      "metadata": {
        "id": "_fMMjKilyKed",
        "outputId": "947ce524-2b37-4c12-d773-bbf49ca85b0d",
        "colab": {
          "base_uri": "https://localhost:8080/"
        }
      },
      "execution_count": 22,
      "outputs": [
        {
          "output_type": "stream",
          "name": "stdout",
          "text": [
            "Digite o valor da base: 5\n",
            "Digite o valor da altura: 5\n",
            "12.5\n"
          ]
        }
      ]
    },
    {
      "cell_type": "code",
      "source": [
        "#solicita ao usuario que insira uma temperatura em Fahrenheit\n",
        "fahrenheit = float(input(\"Digite a temperatura em Fahrenheit: \"))\n",
        "#converte a temperatura para Celsius usando a fórmula c = (5/9) * (F - 32)\n",
        "celsius = (5/9) * (fahrenheit - 32)\n",
        "#exibe o resultado\n",
        "print(f\"A temperatura em Celsisu é {celsius:.2f}°C\")"
      ],
      "metadata": {
        "id": "Cm9Ib7c3zZk0",
        "outputId": "79f3e411-4f96-4625-952b-1f37b6c1ab91",
        "colab": {
          "base_uri": "https://localhost:8080/"
        }
      },
      "execution_count": 24,
      "outputs": [
        {
          "output_type": "stream",
          "name": "stdout",
          "text": [
            "Digite a temperatura em Fahrenheit: 128\n",
            "A temperatura em Celsisu é 53.33°C\n"
          ]
        }
      ]
    },
    {
      "cell_type": "code",
      "source": [
        "#solicita ao usuário que insura uma medida em polegadas\n",
        "polegadas = float(input(\"Digite a medida em polegadas: \"))\n",
        "#converte a medida para milímetros (1 polegada = 25,4 mm)\n",
        "milimetros = polegadas * 25.4\n",
        "#exibe o resultado\n",
        "print(f\"{polegadas} polegadas é igual a {milimetros:.2f} milímetros.\")"
      ],
      "metadata": {
        "id": "gzZjr7jS0GCH",
        "outputId": "42989d82-4901-46d8-f50d-a94a62c53950",
        "colab": {
          "base_uri": "https://localhost:8080/"
        }
      },
      "execution_count": 26,
      "outputs": [
        {
          "output_type": "stream",
          "name": "stdout",
          "text": [
            "Digite a medida em polegadas: 5\n",
            "5.0 polegadas é igual a 127.00 milímetros.\n"
          ]
        }
      ]
    },
    {
      "cell_type": "code",
      "source": [
        "#solicita ao usuário que insira uma medida em milímetros\n",
        "milimetros = float(input(\"Digite a medida em milímetros: \"))\n",
        "#converte a medida para polegadas (1 polegada = 25,4mm)\n",
        "polegadas = milimetros / 25.4\n",
        "#exibe o resultado\n",
        "print(f\"{milimetros} milímetros é igual a {polegadas:.2f} polegadas.\")"
      ],
      "metadata": {
        "id": "k29EywHd0o6D",
        "outputId": "4cd076bb-1764-43b1-be13-69001dc83f40",
        "colab": {
          "base_uri": "https://localhost:8080/"
        }
      },
      "execution_count": 27,
      "outputs": [
        {
          "output_type": "stream",
          "name": "stdout",
          "text": [
            "Digite a medida em milímetros: 127\n",
            "127.0 milímetros é igual a 5.00 polegadas.\n"
          ]
        }
      ]
    },
    {
      "cell_type": "code",
      "source": [
        "#solicita ao usuário que insira sua idade\n",
        "idade = int(input(\"Digite a sua idade: \"))\n",
        "#verifica se a idade é maior ou igual a 16 anos e menor que 70 anos\n",
        "if 16 <= idade < 70:\n",
        "  print(\"Você está na faixa etária entre 16 e 70 anos.\")\n",
        "else:\n",
        "  print(\"Você está fora da faixa etária entre 16 e 70 anos.\")"
      ],
      "metadata": {
        "id": "iP8l5bgx1mOK",
        "outputId": "108b0986-4453-4182-8bd3-21e53cc53167",
        "colab": {
          "base_uri": "https://localhost:8080/"
        }
      },
      "execution_count": 30,
      "outputs": [
        {
          "output_type": "stream",
          "name": "stdout",
          "text": [
            "Digite a sua idade: 19\n",
            "Você está na faixa etária entre 16 e 70 anos.\n"
          ]
        }
      ]
    },
    {
      "cell_type": "code",
      "source": [
        "raio = int(input(\"Digite o valor do raio: \"))\n",
        "pi = 3.1415\n",
        "volume = 4/3*pi*raio**3\n",
        "print(volume)"
      ],
      "metadata": {
        "id": "xYKtdnNO2oag",
        "outputId": "44c44ace-1def-4f09-93ed-ea51021afa8b",
        "colab": {
          "base_uri": "https://localhost:8080/"
        }
      },
      "execution_count": 31,
      "outputs": [
        {
          "output_type": "stream",
          "name": "stdout",
          "text": [
            "Digite o valor do raio: 5\n",
            "523.5833333333333\n"
          ]
        }
      ]
    },
    {
      "cell_type": "code",
      "source": [
        "import math\n",
        "\n",
        "raio = int(input(\"Digite o valor do raio: \"))\n",
        "volume = 4/3*math.pi*raio**3\n",
        "print(volume)"
      ],
      "metadata": {
        "id": "qhoO6Trm7RBg",
        "outputId": "9be6b5b7-5c93-4f98-becf-c6bfeda553b8",
        "colab": {
          "base_uri": "https://localhost:8080/"
        }
      },
      "execution_count": 42,
      "outputs": [
        {
          "output_type": "stream",
          "name": "stdout",
          "text": [
            "Digite o valor do raio: 5\n",
            "523.5987755982989\n"
          ]
        }
      ]
    },
    {
      "cell_type": "code",
      "source": [
        "angulo_graus= int(input(\"Digite o valor do ângulo: \"))\n",
        "pi = 3.1415\n",
        "radianos = angulo_graus*pi/180\n",
        "print(radianos)"
      ],
      "metadata": {
        "id": "nR5Zlhxb3J5N",
        "outputId": "576af70a-392a-470a-ae6f-5f72781ab6a9",
        "colab": {
          "base_uri": "https://localhost:8080/"
        }
      },
      "execution_count": 34,
      "outputs": [
        {
          "output_type": "stream",
          "name": "stdout",
          "text": [
            "Digite o valor do ângulo: 100\n",
            "1.745277777777778\n"
          ]
        }
      ]
    },
    {
      "cell_type": "code",
      "source": [
        "import math\n",
        "graus = float(input(\"Digite o ângulo em graus: \"))\n",
        "radianos = graus*(math.pi/180)\n",
        "print(f\"o ângulo de {graus} é igual a {radianos:.4f} radianos.\")"
      ],
      "metadata": {
        "id": "IvZ6rMHr7i9v",
        "outputId": "a7a4bc1c-54f2-468c-ceab-9e5fd8695abd",
        "colab": {
          "base_uri": "https://localhost:8080/"
        }
      },
      "execution_count": 43,
      "outputs": [
        {
          "output_type": "stream",
          "name": "stdout",
          "text": [
            "Digite o ângulo em graus: 100\n",
            "o ângulo de 100.0 é igual a 1.7453 radianos.\n"
          ]
        }
      ]
    },
    {
      "cell_type": "code",
      "source": [
        "angulo_radianos = float(input(\"Digite o valor do ângulo: \"))\n",
        "pi = 3.1415\n",
        "graus = angulo_radianos*180/pi\n",
        "print(graus)"
      ],
      "metadata": {
        "id": "vy90SfWg4vZ-",
        "outputId": "d044704e-7ed6-4c37-87a4-7a9f70ed3ce0",
        "colab": {
          "base_uri": "https://localhost:8080/"
        }
      },
      "execution_count": 39,
      "outputs": [
        {
          "output_type": "stream",
          "name": "stdout",
          "text": [
            "Digite o valor do ângulo: 1.745277777777778\n",
            "100.0\n"
          ]
        }
      ]
    },
    {
      "cell_type": "code",
      "source": [
        "import math\n",
        "radianos = float(input(\"Digite o ângulo em radianos: \"))\n",
        "graus = radianos * (180/math.pi)\n",
        "print(f\"O ângulo de {radianos:.4f} radianos é igual a {graus:.2f} graus.\")"
      ],
      "metadata": {
        "id": "byboynd_79LS",
        "outputId": "c5b86740-a1a8-4713-d356-fd09c8489651",
        "colab": {
          "base_uri": "https://localhost:8080/"
        }
      },
      "execution_count": 48,
      "outputs": [
        {
          "output_type": "stream",
          "name": "stdout",
          "text": [
            "Digite o ângulo em radianos: 1.7453\n",
            "O ângulo de 1.7453 radianos é igual a 100.00 graus.\n"
          ]
        }
      ]
    },
    {
      "cell_type": "code",
      "source": [
        "angulo_radianos = float(input(\"Digite o valor do ângulo: \"))\n",
        "pi = 3.1415\n",
        "grados = 2*pi*angulo_radianos\n",
        "print(grados)"
      ],
      "metadata": {
        "id": "RQUyCsuK57ua",
        "outputId": "d6eed10f-2cb1-4909-baf7-c398d23c7c76",
        "colab": {
          "base_uri": "https://localhost:8080/"
        }
      },
      "execution_count": 40,
      "outputs": [
        {
          "output_type": "stream",
          "name": "stdout",
          "text": [
            "Digite o valor do ângulo: 100\n",
            "628.3000000000001\n"
          ]
        }
      ]
    },
    {
      "cell_type": "code",
      "source": [
        "import math\n",
        "radianos = float(input(\"Digite o ângulo em radianos: \"))\n",
        "grados = radianos * (200/math.pi)\n",
        "print(f\"O ângulo de {radianos:.4f} radianos é igual a {grados:.2f} grados.\")"
      ],
      "metadata": {
        "id": "Y88X6keI8tnm",
        "outputId": "9075dd76-3a04-4bc9-de2b-67a4f795971d",
        "colab": {
          "base_uri": "https://localhost:8080/"
        }
      },
      "execution_count": 49,
      "outputs": [
        {
          "output_type": "stream",
          "name": "stdout",
          "text": [
            "Digite o ângulo em radianos: 100\n",
            "O ângulo de 100.0000 radianos é igual a 6366.20 grados.\n"
          ]
        }
      ]
    },
    {
      "cell_type": "code",
      "source": [
        "#solicita ao usuário que insira um número\n",
        "numero = int(input(\"Digite um número inteiro: \"))\n",
        "#verifica se o número é par ou ímpar\n",
        "if numero % 2 == 0:\n",
        "    print(f\"O número {numero} é par.\")\n",
        "else:\n",
        "    print(f\"O número {numero} é ímpar.\")"
      ],
      "metadata": {
        "id": "8udsz1c09aNN",
        "outputId": "0f12f0a4-1964-4a55-ab63-21e6581794ef",
        "colab": {
          "base_uri": "https://localhost:8080/"
        }
      },
      "execution_count": 50,
      "outputs": [
        {
          "output_type": "stream",
          "name": "stdout",
          "text": [
            "Digite um número inteiro: 10\n",
            "O número 10 é par.\n"
          ]
        }
      ]
    },
    {
      "cell_type": "code",
      "source": [
        "import math\n",
        "#solicita ao usuário que insira um número\n",
        "numero = float(input(\"Digite um número: \"))\n",
        "#verifica se o número é maior ou igual a zero\n",
        "if numero >= 0:\n",
        "    raiz_quadrada = math.sqrt(numero)\n",
        "    print(f\"A raiz quadrade de {numero} é {raiz_quadrada:.2f}.\")\n",
        "else:\n",
        "    print(\"Não existe raiz real para este número!\")"
      ],
      "metadata": {
        "id": "darZmO7Y-E_I",
        "outputId": "eef4e251-758f-442a-d4ae-caa80391a2fe",
        "colab": {
          "base_uri": "https://localhost:8080/"
        }
      },
      "execution_count": 52,
      "outputs": [
        {
          "output_type": "stream",
          "name": "stdout",
          "text": [
            "Digite um número: -1\n",
            "Não existe raiz real para este número!\n"
          ]
        }
      ]
    },
    {
      "cell_type": "code",
      "source": [
        "#solicita ao usuário que insura o comprimento e a largura da camise\n",
        "comprimento = float(input(\"Digite o comprimento da camiseta em centímetros: \"))\n",
        "largura = float(input(\"Digite a largura da camiseta em centímetros: \"))\n",
        "#determina o tamanho da camiseta com base no comprimento e largura\n",
        "if comprimento <=60 and largura <=45:\n",
        "    tamanho = \"pp\"\n",
        "elif comprimento <=65 and largura <=48:\n",
        "    tamanho = \"p\"\n",
        "elif comprimento <=70 and largura <=51:\n",
        "    tamanho = \"m\"\n",
        "elif comprimento <=75 and largura <=54:\n",
        "    tamanho = \"g\"\n",
        "elif comprimento <=80 and largura <=57:\n",
        "    tamanho = \"gg\"\n",
        "else:\n",
        "    tamanho = \"xgg\"\n",
        "#exibe o tamanho da camiseta\n",
        "print(f\"O tamanho da camisa é {tamanho}.\")"
      ],
      "metadata": {
        "id": "QV1mg8IR-4Of",
        "outputId": "e28e11af-c449-4cb1-9e8f-00cd495e4c8b",
        "colab": {
          "base_uri": "https://localhost:8080/"
        }
      },
      "execution_count": 55,
      "outputs": [
        {
          "output_type": "stream",
          "name": "stdout",
          "text": [
            "Digite o comprimento da camiseta em centímetros: 50\n",
            "Digite a largura da camiseta em centímetros: 40\n",
            "O tamanho da camisa é pp.\n"
          ]
        }
      ]
    },
    {
      "cell_type": "code",
      "source": [
        "#Comnetários\n",
        "num = int(input(\"digite valor: \"))\n",
        "print(num)\n",
        "quoc = num//2\n",
        "resto = num%2\n",
        "print(\"Quociente = \", quoc)\n",
        "print(\"Resto = \", resto)"
      ],
      "metadata": {
        "id": "IOiepo_5Aegh",
        "outputId": "3c48e807-bb57-423a-8510-18d89b1dd181",
        "colab": {
          "base_uri": "https://localhost:8080/"
        }
      },
      "execution_count": 56,
      "outputs": [
        {
          "output_type": "stream",
          "name": "stdout",
          "text": [
            "digite valor: 9\n",
            "9\n",
            "Quociente =  4\n",
            "Resto =  1\n"
          ]
        }
      ]
    },
    {
      "cell_type": "code",
      "source": [
        "for i in range(10):\n",
        "  print(i)"
      ],
      "metadata": {
        "id": "3N7fFG44AoxE",
        "outputId": "e0c1c732-a90c-474d-ea68-89f38108aeb2",
        "colab": {
          "base_uri": "https://localhost:8080/"
        }
      },
      "execution_count": 57,
      "outputs": [
        {
          "output_type": "stream",
          "name": "stdout",
          "text": [
            "0\n",
            "1\n",
            "2\n",
            "3\n",
            "4\n",
            "5\n",
            "6\n",
            "7\n",
            "8\n",
            "9\n"
          ]
        }
      ]
    },
    {
      "cell_type": "code",
      "source": [
        "for i in range (0,10,1):\n",
        "  print(i)"
      ],
      "metadata": {
        "id": "U3ci5IlkArGd",
        "outputId": "51aa27f2-2ab7-4408-9b6e-e64b35337cce",
        "colab": {
          "base_uri": "https://localhost:8080/"
        }
      },
      "execution_count": 58,
      "outputs": [
        {
          "output_type": "stream",
          "name": "stdout",
          "text": [
            "0\n",
            "1\n",
            "2\n",
            "3\n",
            "4\n",
            "5\n",
            "6\n",
            "7\n",
            "8\n",
            "9\n"
          ]
        }
      ]
    },
    {
      "cell_type": "code",
      "source": [
        "# for i in range(0,10,1):\n",
        "#   print(i)\n",
        "# i=0\n",
        "while i<10:\n",
        "    print(i)\n",
        "    i=i+1"
      ],
      "metadata": {
        "id": "zKkaz0qhAuAK",
        "outputId": "dc1bae53-4050-4877-be0b-8047ef852b0a",
        "colab": {
          "base_uri": "https://localhost:8080/"
        }
      },
      "execution_count": 59,
      "outputs": [
        {
          "output_type": "stream",
          "name": "stdout",
          "text": [
            "9\n"
          ]
        }
      ]
    },
    {
      "cell_type": "code",
      "source": [
        "# for i in range(0,10,1):\n",
        "#   print(i)\n",
        "# i=0\n",
        "while i<10:\n",
        "  i = i + 1\n",
        "  print(i)"
      ],
      "metadata": {
        "id": "LFEbGB8xAwhn"
      },
      "execution_count": 66,
      "outputs": []
    },
    {
      "cell_type": "code",
      "source": [
        "num = int(input(\"Digite um número: \"))\n",
        "# Calcular o resto da divisão de x por 3\n",
        "r = num % 3\n",
        "# Verificar se o valor é múltiplo de 3\n",
        "if r == 0:\n",
        "    print(\"Múltiplo\")\n",
        "else:\n",
        "    print(\"Não múltiplo\")\n"
      ],
      "metadata": {
        "id": "aL-mStmcBCOp",
        "outputId": "d9a91198-473f-4d61-f042-bd0a97576ee3",
        "colab": {
          "base_uri": "https://localhost:8080/"
        }
      },
      "execution_count": 68,
      "outputs": [
        {
          "output_type": "stream",
          "name": "stdout",
          "text": [
            "Digite um número: 4\n",
            "Não múltiplo\n"
          ]
        }
      ]
    },
    {
      "cell_type": "code",
      "source": [
        "# Solicitar as notas ao usuário\n",
        "a = float(input(\"Digite a nota a: \"))\n",
        "b = float(input(\"Digite a nota b: \"))\n",
        "\n",
        "# Definir os pesos\n",
        "peso_a = 2\n",
        "peso_b = 3\n",
        "\n",
        "# Calcular a média ponderada\n",
        "media_ponderada = (a * peso_a + b * peso_b) / (peso_a + peso_b)\n",
        "\n",
        "# Verificar se o aluno foi aprovado\n",
        "if media_ponderada >= 5:\n",
        "    resultado = \"Aprovado\"\n",
        "else:\n",
        "    resultado = \"Reprovado\"\n",
        "\n",
        "# Exibir a média e o resultado\n",
        "print(f\"Média Ponderada: {media_ponderada:.2f}\")\n",
        "print(f\"Resultado: {resultado}\")"
      ],
      "metadata": {
        "id": "FauXoeXkBrrl",
        "outputId": "006b09e5-aa26-4e69-d000-36b8a0ce08aa",
        "colab": {
          "base_uri": "https://localhost:8080/"
        }
      },
      "execution_count": 69,
      "outputs": [
        {
          "output_type": "stream",
          "name": "stdout",
          "text": [
            "Digite a nota a: 6\n",
            "Digite a nota b: 8\n",
            "Média Ponderada: 7.20\n",
            "Resultado: Aprovado\n"
          ]
        }
      ]
    },
    {
      "cell_type": "code",
      "source": [
        "# Ler os três valores\n",
        "a = float(input(\"Digite o valor de a: \"))\n",
        "b = float(input(\"Digite o valor de b: \"))\n",
        "c = float(input(\"Digite o valor de c: \"))\n",
        "\n",
        "# Comparar os valores para encontrar o menor\n",
        "if a <= b and a <= c:\n",
        "    menor = a\n",
        "elif b <= a and b <= c:\n",
        "    menor = b\n",
        "else:\n",
        "    menor = c\n",
        "\n",
        "# Exibir o menor valor\n",
        "print(f\"O menor valor é: {menor}\")\n"
      ],
      "metadata": {
        "id": "jmhRrmfLCHUD",
        "outputId": "75368081-cc24-46ac-e2b7-eccf40c43aa4",
        "colab": {
          "base_uri": "https://localhost:8080/"
        }
      },
      "execution_count": 70,
      "outputs": [
        {
          "output_type": "stream",
          "name": "stdout",
          "text": [
            "Digite o valor de a: 3\n",
            "Digite o valor de b: 4\n",
            "Digite o valor de c: 5\n",
            "O menor valor é: 3.0\n"
          ]
        }
      ]
    },
    {
      "cell_type": "code",
      "source": [
        "import math\n",
        "\n",
        "# Inicializar a variável i\n",
        "i = 0\n",
        "\n",
        "# Loop para calcular o seno dos ângulos de 0º a 360º\n",
        "while i <= 100:\n",
        "    # Converter i para radianos\n",
        "    radianos = math.radians(i)\n",
        "\n",
        "    # Calcular o seno de i\n",
        "    seno = math.sin(radianos)\n",
        "\n",
        "    # Exibir o ângulo e seu seno\n",
        "    print(f\"Ângulo: {i}º, Seno: {seno:.4f}\")\n",
        "\n",
        "    # Incrementar i de 5 unidades\n",
        "    i += 5"
      ],
      "metadata": {
        "id": "I7PlfDY7Cizc",
        "outputId": "2eaca43c-0417-4f65-8650-2c0270bab5b6",
        "colab": {
          "base_uri": "https://localhost:8080/"
        }
      },
      "execution_count": 73,
      "outputs": [
        {
          "output_type": "stream",
          "name": "stdout",
          "text": [
            "Ângulo: 0º, Seno: 0.0000\n",
            "Ângulo: 5º, Seno: 0.0872\n",
            "Ângulo: 10º, Seno: 0.1736\n",
            "Ângulo: 15º, Seno: 0.2588\n",
            "Ângulo: 20º, Seno: 0.3420\n",
            "Ângulo: 25º, Seno: 0.4226\n",
            "Ângulo: 30º, Seno: 0.5000\n",
            "Ângulo: 35º, Seno: 0.5736\n",
            "Ângulo: 40º, Seno: 0.6428\n",
            "Ângulo: 45º, Seno: 0.7071\n",
            "Ângulo: 50º, Seno: 0.7660\n",
            "Ângulo: 55º, Seno: 0.8192\n",
            "Ângulo: 60º, Seno: 0.8660\n",
            "Ângulo: 65º, Seno: 0.9063\n",
            "Ângulo: 70º, Seno: 0.9397\n",
            "Ângulo: 75º, Seno: 0.9659\n",
            "Ângulo: 80º, Seno: 0.9848\n",
            "Ângulo: 85º, Seno: 0.9962\n",
            "Ângulo: 90º, Seno: 1.0000\n",
            "Ângulo: 95º, Seno: 0.9962\n",
            "Ângulo: 100º, Seno: 0.9848\n"
          ]
        }
      ]
    },
    {
      "cell_type": "code",
      "source": [],
      "metadata": {
        "id": "xPG9phClCp8n"
      },
      "execution_count": null,
      "outputs": []
    },
    {
      "cell_type": "code",
      "source": [
        "import math\n",
        "#cabeçalho da tabela\n",
        "print(f\"{'Ângulo (graus)' :<15} {'Seno': <10}\")\n",
        "#gera os valores dos angulos de 0 a 360 com intervalos de 5\n",
        "for angulo in range(0,101,5):\n",
        "#converte o angulo de graus para radianos\n",
        "    radianos = math.radians(angulo)\n",
        "#calculo o seno do angulo\n",
        "    seno = math.sin(radianos)\n",
        "#exibe o angulo e seu seno corres´pndente\n",
        "    print(f\"{angulo:<15} {seno:<10.4f}\")"
      ],
      "metadata": {
        "id": "ZAt2b15yCwFJ",
        "outputId": "f7509607-b708-42d4-b992-16ad509671e8",
        "colab": {
          "base_uri": "https://localhost:8080/"
        }
      },
      "execution_count": 76,
      "outputs": [
        {
          "output_type": "stream",
          "name": "stdout",
          "text": [
            "Ângulo (graus)  Seno      \n",
            "0               0.0000    \n",
            "5               0.0872    \n",
            "10              0.1736    \n",
            "15              0.2588    \n",
            "20              0.3420    \n",
            "25              0.4226    \n",
            "30              0.5000    \n",
            "35              0.5736    \n",
            "40              0.6428    \n",
            "45              0.7071    \n",
            "50              0.7660    \n",
            "55              0.8192    \n",
            "60              0.8660    \n",
            "65              0.9063    \n",
            "70              0.9397    \n",
            "75              0.9659    \n",
            "80              0.9848    \n",
            "85              0.9962    \n",
            "90              1.0000    \n",
            "95              0.9962    \n",
            "100             0.9848    \n"
          ]
        }
      ]
    },
    {
      "cell_type": "code",
      "source": [
        "# Solicita ao usuário que insira a quantidade de alunos\n",
        "n = int(input(\"Digite a quantidade de alunos: \"))\n",
        "# Inicializa a variável para armazenar a soma das médias\n",
        "soma_das_medias = 0\n",
        "# Laço para calcular a média de cada aluno\n",
        "for i in range(1, n + 1):\n",
        "  print(\"\\nAluno {i}:\")\n",
        "  n1 = float(input(\"Digite a nota N1: \"))\n",
        "  n2 = float(input(\"Digite a nota N2: \"))\n",
        "# Calcula a média do aluno\n",
        "  media = (n1 + n2) / 2\n",
        "  print(media)"
      ],
      "metadata": {
        "id": "M2s0gSp3EAmB",
        "outputId": "076f59db-1f7b-4d35-f659-e241b8f09463",
        "colab": {
          "base_uri": "https://localhost:8080/"
        }
      },
      "execution_count": 82,
      "outputs": [
        {
          "output_type": "stream",
          "name": "stdout",
          "text": [
            "Digite a quantidade de alunos: 2\n",
            "\n",
            "Aluno {i}:\n",
            "Digite a nota N1: 5\n",
            "Digite a nota N2: 6\n",
            "5.5\n",
            "\n",
            "Aluno {i}:\n",
            "Digite a nota N1: 6\n",
            "Digite a nota N2: 7\n",
            "6.5\n"
          ]
        }
      ]
    },
    {
      "cell_type": "code",
      "source": [
        "while True:\n",
        "  resposta = input(\"Deseja realizar uma soma? (sim/não): \").lower()\n",
        "  if resposta == \"sim\":\n",
        "    num1 = float(input(\"Digite o primeiro número: \"))\n",
        "    num2 = float(input(\"Digite o segundo número: \"))\n",
        "    soma = num1 + num2 # Cálculo da soma\n",
        "    print(\"A soma é:\", soma)\n",
        "  else:\n",
        "    print(\"Encerrando o programa.\")\n",
        "    break"
      ],
      "metadata": {
        "id": "XM2Sp_MtFhPv",
        "outputId": "bc7a048d-5979-4edb-9151-a36365da5fab",
        "colab": {
          "base_uri": "https://localhost:8080/"
        }
      },
      "execution_count": 88,
      "outputs": [
        {
          "output_type": "stream",
          "name": "stdout",
          "text": [
            "Deseja realizar uma soma? (sim/não): Sim\n",
            "Digite o primeiro número: 2\n",
            "Digite o segundo número: 3\n",
            "A soma é: 5.0\n",
            "Deseja realizar uma soma? (sim/não): Não\n",
            "Encerrando o programa.\n"
          ]
        }
      ]
    }
  ]
}