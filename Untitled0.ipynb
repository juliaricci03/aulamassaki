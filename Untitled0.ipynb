{
  "nbformat": 4,
  "nbformat_minor": 0,
  "metadata": {
    "colab": {
      "provenance": [],
      "authorship_tag": "ABX9TyN01ouI5bx51QwOAdJXk45V",
      "include_colab_link": true
    },
    "kernelspec": {
      "name": "python3",
      "display_name": "Python 3"
    },
    "language_info": {
      "name": "python"
    }
  },
  "cells": [
    {
      "cell_type": "markdown",
      "metadata": {
        "id": "view-in-github",
        "colab_type": "text"
      },
      "source": [
        "<a href=\"https://colab.research.google.com/github/juliaricci03/aulamassaki/blob/main/Untitled0.ipynb\" target=\"_parent\"><img src=\"https://colab.research.google.com/assets/colab-badge.svg\" alt=\"Open In Colab\"/></a>"
      ]
    },
    {
      "cell_type": "markdown",
      "source": [
        "#*Criar a narrativa, pseudocódigo, fluxograma e código para um programa que receba o raio (r) de uma esfera, e em seguida calcule e exibir o seu volume (v) desta esfera.*"
      ],
      "metadata": {
        "id": "nFwi412iY8sM"
      }
    },
    {
      "cell_type": "code",
      "execution_count": 34,
      "metadata": {
        "colab": {
          "base_uri": "https://localhost:8080/"
        },
        "id": "JKVwHpgfY574",
        "outputId": "cece18c3-5ea7-4560-ad2b-cfb1a00f4775"
      },
      "outputs": [
        {
          "output_type": "stream",
          "name": "stdout",
          "text": [
            "Conversão de raio: 52\n",
            "a medida em volume é  588678.83L\n"
          ]
        }
      ],
      "source": [
        "raio = float(input(\"Conversão de raio: \"))\n",
        "# Calcular raio para volume usando a formula V = 4/3*3,14*R**3\n",
        "volume = (4/3*3.14)*(raio**3)\n",
        "#Exibir valor para volume\n",
        "print(f\"a medida em volume é {volume: .2f}L\")\n",
        "\n",
        "\n"
      ]
    },
    {
      "cell_type": "markdown",
      "source": [
        "#*Criar a narrativa, pseudocódigo, fluxograma e código para um programa que receba o valor de um ângulo em radianos, e converta este valor para graus.*"
      ],
      "metadata": {
        "id": "SzEGjSwnesZi"
      }
    },
    {
      "cell_type": "code",
      "source": [
        "R = float(input(\"Digite valor de R: \"))\n",
        "# calcular radianos para graus usando a formula radianos = R*180/3.14\n",
        "radianos = (R*180/3.14)\n",
        "# Exibir valor para graus\n",
        "print(f\"a medida em graus é {radianos: .2f}\")"
      ],
      "metadata": {
        "colab": {
          "base_uri": "https://localhost:8080/"
        },
        "id": "WWYbDFmwe-Ol",
        "outputId": "4c77b16f-7c9a-416c-8a3c-6d20af640828"
      },
      "execution_count": 50,
      "outputs": [
        {
          "output_type": "stream",
          "name": "stdout",
          "text": [
            "Digite valor de R: 84\n",
            "a medida em graus é  4815.29\n"
          ]
        }
      ]
    },
    {
      "cell_type": "markdown",
      "source": [
        "#*Criar a narrativa, pseudocódigo, fluxograma e código para um programa que receba ângulo em radianos, e converta este valor para grados. Lembrar que 400 grados equivalem a 2*pi radianos.*\n"
      ],
      "metadata": {
        "id": "zyUZ_1CbixH8"
      }
    },
    {
      "cell_type": "code",
      "source": [],
      "metadata": {
        "id": "bgYg2Qbhi8b-"
      },
      "execution_count": null,
      "outputs": []
    },
    {
      "cell_type": "code",
      "source": [],
      "metadata": {
        "id": "JYysS-qYe6nD"
      },
      "execution_count": null,
      "outputs": []
    },
    {
      "cell_type": "markdown",
      "source": [
        "Contar de 0 até 9 com FOR:"
      ],
      "metadata": {
        "id": "We1_sF54ZJhs"
      }
    },
    {
      "cell_type": "code",
      "source": [
        "for i in range(10):\n",
        "  print(i)"
      ],
      "metadata": {
        "colab": {
          "base_uri": "https://localhost:8080/"
        },
        "id": "VxzQoSnBZKSN",
        "outputId": "75706f4f-00c7-489d-b0b5-802079a7f99a"
      },
      "execution_count": 1,
      "outputs": [
        {
          "output_type": "stream",
          "name": "stdout",
          "text": [
            "0\n",
            "1\n",
            "2\n",
            "3\n",
            "4\n",
            "5\n",
            "6\n",
            "7\n",
            "8\n",
            "9\n"
          ]
        }
      ]
    },
    {
      "cell_type": "code",
      "source": [
        "for i in range (0,10,1):\n",
        "  print(i)"
      ],
      "metadata": {
        "colab": {
          "base_uri": "https://localhost:8080/"
        },
        "id": "o0UOt6Q9ZO8t",
        "outputId": "fa7c08fd-5a38-45c6-99e9-e050d8294ad2"
      },
      "execution_count": 2,
      "outputs": [
        {
          "output_type": "stream",
          "name": "stdout",
          "text": [
            "0\n",
            "1\n",
            "2\n",
            "3\n",
            "4\n",
            "5\n",
            "6\n",
            "7\n",
            "8\n",
            "9\n"
          ]
        }
      ]
    },
    {
      "cell_type": "markdown",
      "source": [
        "Contar com while"
      ],
      "metadata": {
        "id": "nH2XNNrbZ-uy"
      }
    },
    {
      "cell_type": "code",
      "source": [
        "# for i in range(0,10,1):\n",
        "#   print(i)\n",
        "# i=0\n",
        "while i<10:\n",
        "    print(i)\n",
        "    i=i+1\n"
      ],
      "metadata": {
        "id": "LthYlk5rZ7SL"
      },
      "execution_count": 15,
      "outputs": []
    },
    {
      "cell_type": "code",
      "source": [
        "# for i in range(0,10,1):\n",
        "#   print(i)\n",
        "# i=0\n",
        "while i<10:\n",
        "    print(i)\n",
        "    i=i+1\n",
        ""
      ],
      "metadata": {
        "id": "HPUG5DncZZ1W"
      },
      "execution_count": 18,
      "outputs": []
    }
  ]
}