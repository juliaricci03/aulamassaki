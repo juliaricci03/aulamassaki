{
  "nbformat": 4,
  "nbformat_minor": 0,
  "metadata": {
    "colab": {
      "provenance": [],
      "include_colab_link": true
    },
    "kernelspec": {
      "name": "python3",
      "display_name": "Python 3"
    },
    "language_info": {
      "name": "python"
    }
  },
  "cells": [
    {
      "cell_type": "markdown",
      "metadata": {
        "id": "view-in-github",
        "colab_type": "text"
      },
      "source": [
        "<a href=\"https://colab.research.google.com/github/juliaricci03/aulamassaki/blob/main/FaturamentoEmpresa_Atualatual.ipynb\" target=\"_parent\"><img src=\"https://colab.research.google.com/assets/colab-badge.svg\" alt=\"Open In Colab\"/></a>"
      ]
    },
    {
      "cell_type": "code",
      "execution_count": 54,
      "metadata": {
        "colab": {
          "base_uri": "https://localhost:8080/"
        },
        "id": "qg1JDrN5o5xs",
        "outputId": "a3c4b6de-8c8f-4d7f-e04a-08bfd7513768"
      },
      "outputs": [
        {
          "output_type": "stream",
          "name": "stdout",
          "text": [
            "Requirement already satisfied: update in /usr/local/lib/python3.10/dist-packages (0.0.1)\n",
            "Requirement already satisfied: pandas in /usr/local/lib/python3.10/dist-packages (2.2.2)\n",
            "Requirement already satisfied: style==1.1.0 in /usr/local/lib/python3.10/dist-packages (from update) (1.1.0)\n",
            "Requirement already satisfied: numpy>=1.22.4 in /usr/local/lib/python3.10/dist-packages (from pandas) (1.26.4)\n",
            "Requirement already satisfied: python-dateutil>=2.8.2 in /usr/local/lib/python3.10/dist-packages (from pandas) (2.8.2)\n",
            "Requirement already satisfied: pytz>=2020.1 in /usr/local/lib/python3.10/dist-packages (from pandas) (2024.2)\n",
            "Requirement already satisfied: tzdata>=2022.7 in /usr/local/lib/python3.10/dist-packages (from pandas) (2024.2)\n",
            "Requirement already satisfied: six>=1.5 in /usr/local/lib/python3.10/dist-packages (from python-dateutil>=2.8.2->pandas) (1.16.0)\n",
            "Requirement already satisfied: streamlit in /usr/local/lib/python3.10/dist-packages (1.40.1)\n",
            "Requirement already satisfied: altair<6,>=4.0 in /usr/local/lib/python3.10/dist-packages (from streamlit) (4.2.2)\n",
            "Requirement already satisfied: blinker<2,>=1.0.0 in /usr/local/lib/python3.10/dist-packages (from streamlit) (1.9.0)\n",
            "Requirement already satisfied: cachetools<6,>=4.0 in /usr/local/lib/python3.10/dist-packages (from streamlit) (5.5.0)\n",
            "Requirement already satisfied: click<9,>=7.0 in /usr/local/lib/python3.10/dist-packages (from streamlit) (8.1.7)\n",
            "Requirement already satisfied: numpy<3,>=1.20 in /usr/local/lib/python3.10/dist-packages (from streamlit) (1.26.4)\n",
            "Requirement already satisfied: packaging<25,>=20 in /usr/local/lib/python3.10/dist-packages (from streamlit) (24.2)\n",
            "Requirement already satisfied: pandas<3,>=1.4.0 in /usr/local/lib/python3.10/dist-packages (from streamlit) (2.2.2)\n",
            "Requirement already satisfied: pillow<12,>=7.1.0 in /usr/local/lib/python3.10/dist-packages (from streamlit) (11.0.0)\n",
            "Requirement already satisfied: protobuf<6,>=3.20 in /usr/local/lib/python3.10/dist-packages (from streamlit) (4.25.5)\n",
            "Requirement already satisfied: pyarrow>=7.0 in /usr/local/lib/python3.10/dist-packages (from streamlit) (17.0.0)\n",
            "Requirement already satisfied: requests<3,>=2.27 in /usr/local/lib/python3.10/dist-packages (from streamlit) (2.32.3)\n",
            "Requirement already satisfied: rich<14,>=10.14.0 in /usr/local/lib/python3.10/dist-packages (from streamlit) (13.9.4)\n",
            "Requirement already satisfied: tenacity<10,>=8.1.0 in /usr/local/lib/python3.10/dist-packages (from streamlit) (9.0.0)\n",
            "Requirement already satisfied: toml<2,>=0.10.1 in /usr/local/lib/python3.10/dist-packages (from streamlit) (0.10.2)\n",
            "Requirement already satisfied: typing-extensions<5,>=4.3.0 in /usr/local/lib/python3.10/dist-packages (from streamlit) (4.12.2)\n",
            "Requirement already satisfied: gitpython!=3.1.19,<4,>=3.0.7 in /usr/local/lib/python3.10/dist-packages (from streamlit) (3.1.43)\n",
            "Requirement already satisfied: pydeck<1,>=0.8.0b4 in /usr/local/lib/python3.10/dist-packages (from streamlit) (0.9.1)\n",
            "Requirement already satisfied: tornado<7,>=6.0.3 in /usr/local/lib/python3.10/dist-packages (from streamlit) (6.3.3)\n",
            "Requirement already satisfied: watchdog<7,>=2.1.5 in /usr/local/lib/python3.10/dist-packages (from streamlit) (6.0.0)\n",
            "Requirement already satisfied: entrypoints in /usr/local/lib/python3.10/dist-packages (from altair<6,>=4.0->streamlit) (0.4)\n",
            "Requirement already satisfied: jinja2 in /usr/local/lib/python3.10/dist-packages (from altair<6,>=4.0->streamlit) (3.1.4)\n",
            "Requirement already satisfied: jsonschema>=3.0 in /usr/local/lib/python3.10/dist-packages (from altair<6,>=4.0->streamlit) (4.23.0)\n",
            "Requirement already satisfied: toolz in /usr/local/lib/python3.10/dist-packages (from altair<6,>=4.0->streamlit) (0.12.1)\n",
            "Requirement already satisfied: gitdb<5,>=4.0.1 in /usr/local/lib/python3.10/dist-packages (from gitpython!=3.1.19,<4,>=3.0.7->streamlit) (4.0.11)\n",
            "Requirement already satisfied: python-dateutil>=2.8.2 in /usr/local/lib/python3.10/dist-packages (from pandas<3,>=1.4.0->streamlit) (2.8.2)\n",
            "Requirement already satisfied: pytz>=2020.1 in /usr/local/lib/python3.10/dist-packages (from pandas<3,>=1.4.0->streamlit) (2024.2)\n",
            "Requirement already satisfied: tzdata>=2022.7 in /usr/local/lib/python3.10/dist-packages (from pandas<3,>=1.4.0->streamlit) (2024.2)\n",
            "Requirement already satisfied: charset-normalizer<4,>=2 in /usr/local/lib/python3.10/dist-packages (from requests<3,>=2.27->streamlit) (3.4.0)\n",
            "Requirement already satisfied: idna<4,>=2.5 in /usr/local/lib/python3.10/dist-packages (from requests<3,>=2.27->streamlit) (3.10)\n",
            "Requirement already satisfied: urllib3<3,>=1.21.1 in /usr/local/lib/python3.10/dist-packages (from requests<3,>=2.27->streamlit) (2.2.3)\n",
            "Requirement already satisfied: certifi>=2017.4.17 in /usr/local/lib/python3.10/dist-packages (from requests<3,>=2.27->streamlit) (2024.8.30)\n",
            "Requirement already satisfied: markdown-it-py>=2.2.0 in /usr/local/lib/python3.10/dist-packages (from rich<14,>=10.14.0->streamlit) (3.0.0)\n",
            "Requirement already satisfied: pygments<3.0.0,>=2.13.0 in /usr/local/lib/python3.10/dist-packages (from rich<14,>=10.14.0->streamlit) (2.18.0)\n",
            "Requirement already satisfied: smmap<6,>=3.0.1 in /usr/local/lib/python3.10/dist-packages (from gitdb<5,>=4.0.1->gitpython!=3.1.19,<4,>=3.0.7->streamlit) (5.0.1)\n",
            "Requirement already satisfied: MarkupSafe>=2.0 in /usr/local/lib/python3.10/dist-packages (from jinja2->altair<6,>=4.0->streamlit) (2.1.5)\n",
            "Requirement already satisfied: attrs>=22.2.0 in /usr/local/lib/python3.10/dist-packages (from jsonschema>=3.0->altair<6,>=4.0->streamlit) (24.2.0)\n",
            "Requirement already satisfied: jsonschema-specifications>=2023.03.6 in /usr/local/lib/python3.10/dist-packages (from jsonschema>=3.0->altair<6,>=4.0->streamlit) (2024.10.1)\n",
            "Requirement already satisfied: referencing>=0.28.4 in /usr/local/lib/python3.10/dist-packages (from jsonschema>=3.0->altair<6,>=4.0->streamlit) (0.35.1)\n",
            "Requirement already satisfied: rpds-py>=0.7.1 in /usr/local/lib/python3.10/dist-packages (from jsonschema>=3.0->altair<6,>=4.0->streamlit) (0.21.0)\n",
            "Requirement already satisfied: mdurl~=0.1 in /usr/local/lib/python3.10/dist-packages (from markdown-it-py>=2.2.0->rich<14,>=10.14.0->streamlit) (0.1.2)\n",
            "Requirement already satisfied: six>=1.5 in /usr/local/lib/python3.10/dist-packages (from python-dateutil>=2.8.2->pandas<3,>=1.4.0->streamlit) (1.16.0)\n",
            "Requirement already satisfied: gradio in /usr/local/lib/python3.10/dist-packages (5.6.0)\n",
            "Requirement already satisfied: aiofiles<24.0,>=22.0 in /usr/local/lib/python3.10/dist-packages (from gradio) (23.2.1)\n",
            "Requirement already satisfied: anyio<5.0,>=3.0 in /usr/local/lib/python3.10/dist-packages (from gradio) (3.7.1)\n",
            "Requirement already satisfied: fastapi<1.0,>=0.115.2 in /usr/local/lib/python3.10/dist-packages (from gradio) (0.115.5)\n",
            "Requirement already satisfied: ffmpy in /usr/local/lib/python3.10/dist-packages (from gradio) (0.4.0)\n",
            "Requirement already satisfied: gradio-client==1.4.3 in /usr/local/lib/python3.10/dist-packages (from gradio) (1.4.3)\n",
            "Requirement already satisfied: httpx>=0.24.1 in /usr/local/lib/python3.10/dist-packages (from gradio) (0.27.2)\n",
            "Requirement already satisfied: huggingface-hub>=0.25.1 in /usr/local/lib/python3.10/dist-packages (from gradio) (0.26.2)\n",
            "Requirement already satisfied: jinja2<4.0 in /usr/local/lib/python3.10/dist-packages (from gradio) (3.1.4)\n",
            "Requirement already satisfied: markupsafe~=2.0 in /usr/local/lib/python3.10/dist-packages (from gradio) (2.1.5)\n",
            "Requirement already satisfied: numpy<3.0,>=1.0 in /usr/local/lib/python3.10/dist-packages (from gradio) (1.26.4)\n",
            "Requirement already satisfied: orjson~=3.0 in /usr/local/lib/python3.10/dist-packages (from gradio) (3.10.11)\n",
            "Requirement already satisfied: packaging in /usr/local/lib/python3.10/dist-packages (from gradio) (24.2)\n",
            "Requirement already satisfied: pandas<3.0,>=1.0 in /usr/local/lib/python3.10/dist-packages (from gradio) (2.2.2)\n",
            "Requirement already satisfied: pillow<12.0,>=8.0 in /usr/local/lib/python3.10/dist-packages (from gradio) (11.0.0)\n",
            "Requirement already satisfied: pydantic>=2.0 in /usr/local/lib/python3.10/dist-packages (from gradio) (2.9.2)\n",
            "Requirement already satisfied: pydub in /usr/local/lib/python3.10/dist-packages (from gradio) (0.25.1)\n",
            "Requirement already satisfied: python-multipart==0.0.12 in /usr/local/lib/python3.10/dist-packages (from gradio) (0.0.12)\n",
            "Requirement already satisfied: pyyaml<7.0,>=5.0 in /usr/local/lib/python3.10/dist-packages (from gradio) (6.0.2)\n",
            "Requirement already satisfied: ruff>=0.2.2 in /usr/local/lib/python3.10/dist-packages (from gradio) (0.7.4)\n",
            "Requirement already satisfied: safehttpx<1.0,>=0.1.1 in /usr/local/lib/python3.10/dist-packages (from gradio) (0.1.1)\n",
            "Requirement already satisfied: semantic-version~=2.0 in /usr/local/lib/python3.10/dist-packages (from gradio) (2.10.0)\n",
            "Requirement already satisfied: starlette<1.0,>=0.40.0 in /usr/local/lib/python3.10/dist-packages (from gradio) (0.41.3)\n",
            "Requirement already satisfied: tomlkit==0.12.0 in /usr/local/lib/python3.10/dist-packages (from gradio) (0.12.0)\n",
            "Requirement already satisfied: typer<1.0,>=0.12 in /usr/local/lib/python3.10/dist-packages (from gradio) (0.13.0)\n",
            "Requirement already satisfied: typing-extensions~=4.0 in /usr/local/lib/python3.10/dist-packages (from gradio) (4.12.2)\n",
            "Requirement already satisfied: uvicorn>=0.14.0 in /usr/local/lib/python3.10/dist-packages (from gradio) (0.32.1)\n",
            "Requirement already satisfied: fsspec in /usr/local/lib/python3.10/dist-packages (from gradio-client==1.4.3->gradio) (2024.10.0)\n",
            "Requirement already satisfied: websockets<13.0,>=10.0 in /usr/local/lib/python3.10/dist-packages (from gradio-client==1.4.3->gradio) (12.0)\n",
            "Requirement already satisfied: idna>=2.8 in /usr/local/lib/python3.10/dist-packages (from anyio<5.0,>=3.0->gradio) (3.10)\n",
            "Requirement already satisfied: sniffio>=1.1 in /usr/local/lib/python3.10/dist-packages (from anyio<5.0,>=3.0->gradio) (1.3.1)\n",
            "Requirement already satisfied: exceptiongroup in /usr/local/lib/python3.10/dist-packages (from anyio<5.0,>=3.0->gradio) (1.2.2)\n",
            "Requirement already satisfied: certifi in /usr/local/lib/python3.10/dist-packages (from httpx>=0.24.1->gradio) (2024.8.30)\n",
            "Requirement already satisfied: httpcore==1.* in /usr/local/lib/python3.10/dist-packages (from httpx>=0.24.1->gradio) (1.0.7)\n",
            "Requirement already satisfied: h11<0.15,>=0.13 in /usr/local/lib/python3.10/dist-packages (from httpcore==1.*->httpx>=0.24.1->gradio) (0.14.0)\n",
            "Requirement already satisfied: filelock in /usr/local/lib/python3.10/dist-packages (from huggingface-hub>=0.25.1->gradio) (3.16.1)\n",
            "Requirement already satisfied: requests in /usr/local/lib/python3.10/dist-packages (from huggingface-hub>=0.25.1->gradio) (2.32.3)\n",
            "Requirement already satisfied: tqdm>=4.42.1 in /usr/local/lib/python3.10/dist-packages (from huggingface-hub>=0.25.1->gradio) (4.66.6)\n",
            "Requirement already satisfied: python-dateutil>=2.8.2 in /usr/local/lib/python3.10/dist-packages (from pandas<3.0,>=1.0->gradio) (2.8.2)\n",
            "Requirement already satisfied: pytz>=2020.1 in /usr/local/lib/python3.10/dist-packages (from pandas<3.0,>=1.0->gradio) (2024.2)\n",
            "Requirement already satisfied: tzdata>=2022.7 in /usr/local/lib/python3.10/dist-packages (from pandas<3.0,>=1.0->gradio) (2024.2)\n",
            "Requirement already satisfied: annotated-types>=0.6.0 in /usr/local/lib/python3.10/dist-packages (from pydantic>=2.0->gradio) (0.7.0)\n",
            "Requirement already satisfied: pydantic-core==2.23.4 in /usr/local/lib/python3.10/dist-packages (from pydantic>=2.0->gradio) (2.23.4)\n",
            "Requirement already satisfied: click>=8.0.0 in /usr/local/lib/python3.10/dist-packages (from typer<1.0,>=0.12->gradio) (8.1.7)\n",
            "Requirement already satisfied: shellingham>=1.3.0 in /usr/local/lib/python3.10/dist-packages (from typer<1.0,>=0.12->gradio) (1.5.4)\n",
            "Requirement already satisfied: rich>=10.11.0 in /usr/local/lib/python3.10/dist-packages (from typer<1.0,>=0.12->gradio) (13.9.4)\n",
            "Requirement already satisfied: six>=1.5 in /usr/local/lib/python3.10/dist-packages (from python-dateutil>=2.8.2->pandas<3.0,>=1.0->gradio) (1.16.0)\n",
            "Requirement already satisfied: markdown-it-py>=2.2.0 in /usr/local/lib/python3.10/dist-packages (from rich>=10.11.0->typer<1.0,>=0.12->gradio) (3.0.0)\n",
            "Requirement already satisfied: pygments<3.0.0,>=2.13.0 in /usr/local/lib/python3.10/dist-packages (from rich>=10.11.0->typer<1.0,>=0.12->gradio) (2.18.0)\n",
            "Requirement already satisfied: charset-normalizer<4,>=2 in /usr/local/lib/python3.10/dist-packages (from requests->huggingface-hub>=0.25.1->gradio) (3.4.0)\n",
            "Requirement already satisfied: urllib3<3,>=1.21.1 in /usr/local/lib/python3.10/dist-packages (from requests->huggingface-hub>=0.25.1->gradio) (2.2.3)\n",
            "Requirement already satisfied: mdurl~=0.1 in /usr/local/lib/python3.10/dist-packages (from markdown-it-py>=2.2.0->rich>=10.11.0->typer<1.0,>=0.12->gradio) (0.1.2)\n",
            "Requirement already satisfied: gradio in /usr/local/lib/python3.10/dist-packages (5.6.0)\n",
            "Requirement already satisfied: pandas in /usr/local/lib/python3.10/dist-packages (2.2.2)\n",
            "Requirement already satisfied: matplotlib in /usr/local/lib/python3.10/dist-packages (3.8.0)\n",
            "Requirement already satisfied: seaborn in /usr/local/lib/python3.10/dist-packages (0.13.2)\n",
            "Requirement already satisfied: aiofiles<24.0,>=22.0 in /usr/local/lib/python3.10/dist-packages (from gradio) (23.2.1)\n",
            "Requirement already satisfied: anyio<5.0,>=3.0 in /usr/local/lib/python3.10/dist-packages (from gradio) (3.7.1)\n",
            "Requirement already satisfied: fastapi<1.0,>=0.115.2 in /usr/local/lib/python3.10/dist-packages (from gradio) (0.115.5)\n",
            "Requirement already satisfied: ffmpy in /usr/local/lib/python3.10/dist-packages (from gradio) (0.4.0)\n",
            "Requirement already satisfied: gradio-client==1.4.3 in /usr/local/lib/python3.10/dist-packages (from gradio) (1.4.3)\n",
            "Requirement already satisfied: httpx>=0.24.1 in /usr/local/lib/python3.10/dist-packages (from gradio) (0.27.2)\n",
            "Requirement already satisfied: huggingface-hub>=0.25.1 in /usr/local/lib/python3.10/dist-packages (from gradio) (0.26.2)\n",
            "Requirement already satisfied: jinja2<4.0 in /usr/local/lib/python3.10/dist-packages (from gradio) (3.1.4)\n",
            "Requirement already satisfied: markupsafe~=2.0 in /usr/local/lib/python3.10/dist-packages (from gradio) (2.1.5)\n",
            "Requirement already satisfied: numpy<3.0,>=1.0 in /usr/local/lib/python3.10/dist-packages (from gradio) (1.26.4)\n",
            "Requirement already satisfied: orjson~=3.0 in /usr/local/lib/python3.10/dist-packages (from gradio) (3.10.11)\n",
            "Requirement already satisfied: packaging in /usr/local/lib/python3.10/dist-packages (from gradio) (24.2)\n",
            "Requirement already satisfied: pillow<12.0,>=8.0 in /usr/local/lib/python3.10/dist-packages (from gradio) (11.0.0)\n",
            "Requirement already satisfied: pydantic>=2.0 in /usr/local/lib/python3.10/dist-packages (from gradio) (2.9.2)\n",
            "Requirement already satisfied: pydub in /usr/local/lib/python3.10/dist-packages (from gradio) (0.25.1)\n",
            "Requirement already satisfied: python-multipart==0.0.12 in /usr/local/lib/python3.10/dist-packages (from gradio) (0.0.12)\n",
            "Requirement already satisfied: pyyaml<7.0,>=5.0 in /usr/local/lib/python3.10/dist-packages (from gradio) (6.0.2)\n",
            "Requirement already satisfied: ruff>=0.2.2 in /usr/local/lib/python3.10/dist-packages (from gradio) (0.7.4)\n",
            "Requirement already satisfied: safehttpx<1.0,>=0.1.1 in /usr/local/lib/python3.10/dist-packages (from gradio) (0.1.1)\n",
            "Requirement already satisfied: semantic-version~=2.0 in /usr/local/lib/python3.10/dist-packages (from gradio) (2.10.0)\n",
            "Requirement already satisfied: starlette<1.0,>=0.40.0 in /usr/local/lib/python3.10/dist-packages (from gradio) (0.41.3)\n",
            "Requirement already satisfied: tomlkit==0.12.0 in /usr/local/lib/python3.10/dist-packages (from gradio) (0.12.0)\n",
            "Requirement already satisfied: typer<1.0,>=0.12 in /usr/local/lib/python3.10/dist-packages (from gradio) (0.13.0)\n",
            "Requirement already satisfied: typing-extensions~=4.0 in /usr/local/lib/python3.10/dist-packages (from gradio) (4.12.2)\n",
            "Requirement already satisfied: uvicorn>=0.14.0 in /usr/local/lib/python3.10/dist-packages (from gradio) (0.32.1)\n",
            "Requirement already satisfied: fsspec in /usr/local/lib/python3.10/dist-packages (from gradio-client==1.4.3->gradio) (2024.10.0)\n",
            "Requirement already satisfied: websockets<13.0,>=10.0 in /usr/local/lib/python3.10/dist-packages (from gradio-client==1.4.3->gradio) (12.0)\n",
            "Requirement already satisfied: python-dateutil>=2.8.2 in /usr/local/lib/python3.10/dist-packages (from pandas) (2.8.2)\n",
            "Requirement already satisfied: pytz>=2020.1 in /usr/local/lib/python3.10/dist-packages (from pandas) (2024.2)\n",
            "Requirement already satisfied: tzdata>=2022.7 in /usr/local/lib/python3.10/dist-packages (from pandas) (2024.2)\n",
            "Requirement already satisfied: contourpy>=1.0.1 in /usr/local/lib/python3.10/dist-packages (from matplotlib) (1.3.1)\n",
            "Requirement already satisfied: cycler>=0.10 in /usr/local/lib/python3.10/dist-packages (from matplotlib) (0.12.1)\n",
            "Requirement already satisfied: fonttools>=4.22.0 in /usr/local/lib/python3.10/dist-packages (from matplotlib) (4.55.0)\n",
            "Requirement already satisfied: kiwisolver>=1.0.1 in /usr/local/lib/python3.10/dist-packages (from matplotlib) (1.4.7)\n",
            "Requirement already satisfied: pyparsing>=2.3.1 in /usr/local/lib/python3.10/dist-packages (from matplotlib) (3.2.0)\n",
            "Requirement already satisfied: idna>=2.8 in /usr/local/lib/python3.10/dist-packages (from anyio<5.0,>=3.0->gradio) (3.10)\n",
            "Requirement already satisfied: sniffio>=1.1 in /usr/local/lib/python3.10/dist-packages (from anyio<5.0,>=3.0->gradio) (1.3.1)\n",
            "Requirement already satisfied: exceptiongroup in /usr/local/lib/python3.10/dist-packages (from anyio<5.0,>=3.0->gradio) (1.2.2)\n",
            "Requirement already satisfied: certifi in /usr/local/lib/python3.10/dist-packages (from httpx>=0.24.1->gradio) (2024.8.30)\n",
            "Requirement already satisfied: httpcore==1.* in /usr/local/lib/python3.10/dist-packages (from httpx>=0.24.1->gradio) (1.0.7)\n",
            "Requirement already satisfied: h11<0.15,>=0.13 in /usr/local/lib/python3.10/dist-packages (from httpcore==1.*->httpx>=0.24.1->gradio) (0.14.0)\n",
            "Requirement already satisfied: filelock in /usr/local/lib/python3.10/dist-packages (from huggingface-hub>=0.25.1->gradio) (3.16.1)\n",
            "Requirement already satisfied: requests in /usr/local/lib/python3.10/dist-packages (from huggingface-hub>=0.25.1->gradio) (2.32.3)\n",
            "Requirement already satisfied: tqdm>=4.42.1 in /usr/local/lib/python3.10/dist-packages (from huggingface-hub>=0.25.1->gradio) (4.66.6)\n",
            "Requirement already satisfied: annotated-types>=0.6.0 in /usr/local/lib/python3.10/dist-packages (from pydantic>=2.0->gradio) (0.7.0)\n",
            "Requirement already satisfied: pydantic-core==2.23.4 in /usr/local/lib/python3.10/dist-packages (from pydantic>=2.0->gradio) (2.23.4)\n",
            "Requirement already satisfied: six>=1.5 in /usr/local/lib/python3.10/dist-packages (from python-dateutil>=2.8.2->pandas) (1.16.0)\n",
            "Requirement already satisfied: click>=8.0.0 in /usr/local/lib/python3.10/dist-packages (from typer<1.0,>=0.12->gradio) (8.1.7)\n",
            "Requirement already satisfied: shellingham>=1.3.0 in /usr/local/lib/python3.10/dist-packages (from typer<1.0,>=0.12->gradio) (1.5.4)\n",
            "Requirement already satisfied: rich>=10.11.0 in /usr/local/lib/python3.10/dist-packages (from typer<1.0,>=0.12->gradio) (13.9.4)\n",
            "Requirement already satisfied: markdown-it-py>=2.2.0 in /usr/local/lib/python3.10/dist-packages (from rich>=10.11.0->typer<1.0,>=0.12->gradio) (3.0.0)\n",
            "Requirement already satisfied: pygments<3.0.0,>=2.13.0 in /usr/local/lib/python3.10/dist-packages (from rich>=10.11.0->typer<1.0,>=0.12->gradio) (2.18.0)\n",
            "Requirement already satisfied: charset-normalizer<4,>=2 in /usr/local/lib/python3.10/dist-packages (from requests->huggingface-hub>=0.25.1->gradio) (3.4.0)\n",
            "Requirement already satisfied: urllib3<3,>=1.21.1 in /usr/local/lib/python3.10/dist-packages (from requests->huggingface-hub>=0.25.1->gradio) (2.2.3)\n",
            "Requirement already satisfied: mdurl~=0.1 in /usr/local/lib/python3.10/dist-packages (from markdown-it-py>=2.2.0->rich>=10.11.0->typer<1.0,>=0.12->gradio) (0.1.2)\n",
            "Requirement already satisfied: qrcode[pil] in /usr/local/lib/python3.10/dist-packages (8.0)\n",
            "Requirement already satisfied: pillow>=9.1.0 in /usr/local/lib/python3.10/dist-packages (from qrcode[pil]) (11.0.0)\n"
          ]
        }
      ],
      "source": [
        "!pip install update pandas\n",
        "!pip install streamlit\n",
        "!pip install gradio\n",
        "!pip install gradio pandas matplotlib seaborn\n",
        "!pip install qrcode[pil]"
      ]
    },
    {
      "cell_type": "code",
      "source": [
        "import requests\n",
        "import pandas as pd\n",
        "from io import BytesIO\n",
        "\n",
        "# URL da planilha exportada para CSV\n",
        "url = 'https://docs.google.com/spreadsheets/d/e/2PACX-1vTgj4UpaAElR9ZRsyktDLwAPfLSIyhh7OamlMBwH1gNbp-KAp4-lblv5hTKKvLawfGL2uudFC-Exf8_/pub?output=csv'\n",
        "\n",
        "# Baixar os dados CSV\n",
        "rD = requests.get(url)\n",
        "\n",
        "# Verificar se a requisição foi bem-sucedida\n",
        "if rD.status_code == 200:\n",
        "    dataD = rD.content\n",
        "    df = pd.read_csv(BytesIO(dataD))\n",
        "    # Exibir as primeiras linhas do DataFrame\n",
        "    print(df.head())\n",
        "else:\n",
        "    print(\"Erro ao acessar o arquivo. Código de status:\", rD.status_code)\n"
      ],
      "metadata": {
        "colab": {
          "base_uri": "https://localhost:8080/"
        },
        "id": "SZHC26Ow1i3v",
        "outputId": "7f20b306-a958-4d92-df54-b55e9ac0afa1"
      },
      "execution_count": 51,
      "outputs": [
        {
          "output_type": "stream",
          "name": "stdout",
          "text": [
            "         MES   ANO  FATURAMENTO  META_FAT META_ALC\n",
            "0    janeiro  2023          100       100      Sim\n",
            "1  fevereiro  2023           80       120      Não\n",
            "2      março  2023           60       140      Sim\n",
            "3      abril  2023           40       160      Não\n",
            "4       maio  2023           20       180      Sim\n"
          ]
        }
      ]
    },
    {
      "cell_type": "code",
      "source": [
        "# Calculando a porcentagem da meta alcançada\n",
        "df['Meta_Alcancada_%'] = (df['FATURAMENTO'] / df['META_FAT']) *100\n",
        "print (df)"
      ],
      "metadata": {
        "colab": {
          "base_uri": "https://localhost:8080/"
        },
        "id": "wSotTvCjlDAw",
        "outputId": "1edc49de-cf2f-41d4-f272-b4b68de96d2c"
      },
      "execution_count": 52,
      "outputs": [
        {
          "output_type": "stream",
          "name": "stdout",
          "text": [
            "          MES   ANO  FATURAMENTO  META_FAT META_ALC  Meta_Alcancada_%\n",
            "0     janeiro  2023          100       100      Sim        100.000000\n",
            "1   fevereiro  2023           80       120      Não         66.666667\n",
            "2       março  2023           60       140      Sim         42.857143\n",
            "3       abril  2023           40       160      Não         25.000000\n",
            "4        maio  2023           20       180      Sim         11.111111\n",
            "5       junho  2023            0       200      Não          0.000000\n",
            "6       julho  2023          200       220      Não         90.909091\n",
            "7      agosto  2023          400       240      Não        166.666667\n",
            "8    setembro  2023          600       260      Não        230.769231\n",
            "9     outubro  2023          800       280      Sim        285.714286\n",
            "10   novembro  2023         1000       300      Sim        333.333333\n",
            "11   dezembro  2023         1200       320      Sim        375.000000\n",
            "12    janeiro  2024         1400       340      Não        411.764706\n",
            "13  fevereiro  2024         1600       360      Não        444.444444\n",
            "14      março  2024         1800       380      Não        473.684211\n",
            "15      abril  2024         2000       400      Sim        500.000000\n",
            "16       maio  2024         2200       420      Sim        523.809524\n",
            "17      junho  2024         2400       440      Sim        545.454545\n",
            "18      julho  2024         2600       460      Sim        565.217391\n",
            "19     agosto  2024         2800       480      Sim        583.333333\n",
            "20   setembro  2024         3000       500      Sim        600.000000\n",
            "21    outubro  2024         3200       520      Sim        615.384615\n",
            "22   novembro  2024         3400       540      Sim        629.629630\n",
            "23   dezembro  2024         3600       560      Sim        642.857143\n"
          ]
        }
      ]
    },
    {
      "cell_type": "code",
      "source": [
        "# Calculando a taxa de crescimento do faturamento em relação ao mês anterior\n",
        "df['Taxa_Crescimento_%'] = df['FATURAMENTO'].pct_change() * 100\n",
        "print (df)\n"
      ],
      "metadata": {
        "colab": {
          "base_uri": "https://localhost:8080/"
        },
        "id": "95UMkoq2mZ2D",
        "outputId": "b01efe36-28db-43ce-c08d-00039424dd09"
      },
      "execution_count": 53,
      "outputs": [
        {
          "output_type": "stream",
          "name": "stdout",
          "text": [
            "          MES   ANO  FATURAMENTO  META_FAT META_ALC  Meta_Alcancada_%  \\\n",
            "0     janeiro  2023          100       100      Sim        100.000000   \n",
            "1   fevereiro  2023           80       120      Não         66.666667   \n",
            "2       março  2023           60       140      Sim         42.857143   \n",
            "3       abril  2023           40       160      Não         25.000000   \n",
            "4        maio  2023           20       180      Sim         11.111111   \n",
            "5       junho  2023            0       200      Não          0.000000   \n",
            "6       julho  2023          200       220      Não         90.909091   \n",
            "7      agosto  2023          400       240      Não        166.666667   \n",
            "8    setembro  2023          600       260      Não        230.769231   \n",
            "9     outubro  2023          800       280      Sim        285.714286   \n",
            "10   novembro  2023         1000       300      Sim        333.333333   \n",
            "11   dezembro  2023         1200       320      Sim        375.000000   \n",
            "12    janeiro  2024         1400       340      Não        411.764706   \n",
            "13  fevereiro  2024         1600       360      Não        444.444444   \n",
            "14      março  2024         1800       380      Não        473.684211   \n",
            "15      abril  2024         2000       400      Sim        500.000000   \n",
            "16       maio  2024         2200       420      Sim        523.809524   \n",
            "17      junho  2024         2400       440      Sim        545.454545   \n",
            "18      julho  2024         2600       460      Sim        565.217391   \n",
            "19     agosto  2024         2800       480      Sim        583.333333   \n",
            "20   setembro  2024         3000       500      Sim        600.000000   \n",
            "21    outubro  2024         3200       520      Sim        615.384615   \n",
            "22   novembro  2024         3400       540      Sim        629.629630   \n",
            "23   dezembro  2024         3600       560      Sim        642.857143   \n",
            "\n",
            "    Taxa_Crescimento_%  \n",
            "0                  NaN  \n",
            "1           -20.000000  \n",
            "2           -25.000000  \n",
            "3           -33.333333  \n",
            "4           -50.000000  \n",
            "5          -100.000000  \n",
            "6                  inf  \n",
            "7           100.000000  \n",
            "8            50.000000  \n",
            "9            33.333333  \n",
            "10           25.000000  \n",
            "11           20.000000  \n",
            "12           16.666667  \n",
            "13           14.285714  \n",
            "14           12.500000  \n",
            "15           11.111111  \n",
            "16           10.000000  \n",
            "17            9.090909  \n",
            "18            8.333333  \n",
            "19            7.692308  \n",
            "20            7.142857  \n",
            "21            6.666667  \n",
            "22            6.250000  \n",
            "23            5.882353  \n"
          ]
        }
      ]
    },
    {
      "cell_type": "code",
      "source": [
        "import gradio as gr\n",
        "import pandas as pd\n",
        "import matplotlib.pyplot as plt\n",
        "import seaborn as sns\n",
        "\n",
        "# Dados de exemplo\n",
        "data = {\n",
        "    'Mês': ['Janeiro', 'Fevereiro', 'Março', 'Abril'],\n",
        "    'Ano': [2024, 2024, 2024, 2024],\n",
        "    'Faturamento': [50000, 55000, 60000, 65000],\n",
        "    'Meta de Faturamento': [55000, 55000, 60000, 70000],\n",
        "    'Meta Alcançada': [False, True, True, False]\n",
        "}\n",
        "df = pd.DataFrame(data)\n",
        "\n",
        "# Função para gerar o gráfico\n",
        "def gerar_grafico():\n",
        "    plt.figure(figsize=(10, 6))\n",
        "    sns.barplot(x='Mês', y='Faturamento', data=df, color='blue', label='Faturamento')\n",
        "    sns.barplot(x='Mês', y='Meta de Faturamento', data=df, color='orange', label='Meta de Faturamento')\n",
        "\n",
        "    plt.title('Faturamento vs Meta de Faturamento')\n",
        "    plt.ylabel('Valor (R$)')\n",
        "    plt.xlabel('Mês')\n",
        "    plt.legend()\n",
        "\n",
        "    # Salvando o gráfico em um arquivo\n",
        "    plt.savefig(\"grafico.png\")\n",
        "    return \"grafico.png\"\n",
        "\n",
        "# Criando a interface Gradio\n",
        "with gr.Blocks() as interface:\n",
        "    gr.Markdown(\"# Indicadores de Faturamento\")\n",
        "    gr.Dataframe(df, label=\"Tabela de Dados\")\n",
        "    btn = gr.Button(\"Gerar Gráfico\")\n",
        "    img_output = gr.Image()\n",
        "    btn.click(gerar_grafico, outputs=img_output)\n",
        "\n",
        "# Executar a interface\n",
        "interface.launch()\n"
      ],
      "metadata": {
        "colab": {
          "base_uri": "https://localhost:8080/",
          "height": 646
        },
        "id": "Qw67mAAONBot",
        "outputId": "97e62328-252b-4181-fa11-8aaa7b7531d6"
      },
      "execution_count": 56,
      "outputs": [
        {
          "output_type": "stream",
          "name": "stdout",
          "text": [
            "Running Gradio in a Colab notebook requires sharing enabled. Automatically setting `share=True` (you can turn this off by setting `share=False` in `launch()` explicitly).\n",
            "\n",
            "Colab notebook detected. To show errors in colab notebook, set debug=True in launch()\n",
            "* Running on public URL: https://253c4f334b0be7a1a9.gradio.live\n",
            "\n",
            "This share link expires in 72 hours. For free permanent hosting and GPU upgrades, run `gradio deploy` from the terminal in the working directory to deploy to Hugging Face Spaces (https://huggingface.co/spaces)\n"
          ]
        },
        {
          "output_type": "display_data",
          "data": {
            "text/plain": [
              "<IPython.core.display.HTML object>"
            ],
            "text/html": [
              "<div><iframe src=\"https://253c4f334b0be7a1a9.gradio.live\" width=\"100%\" height=\"500\" allow=\"autoplay; camera; microphone; clipboard-read; clipboard-write;\" frameborder=\"0\" allowfullscreen></iframe></div>"
            ]
          },
          "metadata": {}
        },
        {
          "output_type": "execute_result",
          "data": {
            "text/plain": []
          },
          "metadata": {},
          "execution_count": 56
        }
      ]
    },
    {
      "cell_type": "code",
      "source": [
        "import qrcode\n",
        "\n",
        "# Link do seu site\n",
        "link = \"https://253c4f334b0be7a1a9.gradio.live\"\n",
        "\n",
        "# Gerar o QR Code\n",
        "qr = qrcode.make(link)\n",
        "\n",
        "# Salvar a imagem em um arquivo\n",
        "qr.save(\"/content/qrcode.png\")\n",
        "\n",
        "from IPython.display import Image\n",
        "\n",
        "# Exibir a imagem gerada\n",
        "Image(\"/content/qrcode.png\")\n"
      ],
      "metadata": {
        "colab": {
          "base_uri": "https://localhost:8080/",
          "height": 387
        },
        "id": "cr6-rdRPOJq_",
        "outputId": "46945fc7-78e4-4eed-ac79-538994a18154"
      },
      "execution_count": 57,
      "outputs": [
        {
          "output_type": "execute_result",
          "data": {
            "image/png": "[encoded data removed]",
            "text/plain": [
              "<IPython.core.display.Image object>"
            ]
          },
          "metadata": {},
          "execution_count": 57
        }
      ]
    },
    {
      "cell_type": "code",
      "source": [
        "import requests\n",
        "import pandas as pd\n",
        "from io import BytesIO\n",
        "import matplotlib.pyplot as plt\n",
        "import seaborn as sns\n",
        "import gradio as gr\n",
        "import qrcode\n",
        "from IPython.display import Image\n",
        "\n",
        "# URL da planilha exportada para CSV\n",
        "url = 'https://docs.google.com/spreadsheets/d/e/2PACX-1vTgj4UpaAElR9ZRsyktDLwAPfLSIyhh7OamlMBwH1gNbp-KAp4-lblv5hTKKvLawfGL2uudFC-Exf8_/pub?output=csv'\n",
        "\n",
        "# Baixar os dados CSV\n",
        "print(\"Iniciando o download dos dados...\")\n",
        "rD = requests.get(url)\n",
        "\n",
        "# Verificar se a requisição foi bem-sucedida\n",
        "if rD.status_code == 200:\n",
        "    dataD = rD.content\n",
        "    print(\"Dados baixados com sucesso.\")\n",
        "    df = pd.read_csv(BytesIO(dataD))\n",
        "\n",
        "    # Calculando a porcentagem da meta alcançada\n",
        "    df['Meta_Alcancada_%'] = (df['FATURAMENTO'] / df['META_FAT']) * 100\n",
        "\n",
        "    # Calculando a taxa de crescimento do faturamento em relação ao mês anterior\n",
        "    df['Taxa_Crescimento_%'] = df['FATURAMENTO'].pct_change() * 100\n",
        "else:\n",
        "    print(\"Erro ao acessar o arquivo. Código de status:\", rD.status_code)\n",
        "\n",
        "# Verificar se os dados foram carregados corretamente\n",
        "print(\"Dados carregados:\")\n",
        "print(df.head())\n",
        "\n",
        "# Função para gerar o gráfico com Faturamento e Meta Alcançada (%)\n",
        "def gerar_grafico():\n",
        "    try:\n",
        "        # Gerar o gráfico\n",
        "        print(\"Gerando o gráfico...\")\n",
        "        plt.figure(figsize=(16, 10))  # Aumenta ainda mais o tamanho da figura\n",
        "\n",
        "        # Faturamento\n",
        "        bar_plot = sns.barplot(x='MES', y='FATURAMENTO', data=df, color='blue', label='Faturamento')\n",
        "\n",
        "        # Adicionar os valores nas barras do gráfico\n",
        "        for p in bar_plot.patches:\n",
        "            bar_plot.annotate(format(p.get_height(), '.2f'),\n",
        "                              (p.get_x() + p.get_width() / 2., p.get_height()),\n",
        "                              ha = 'center', va = 'center', fontsize=12,\n",
        "                              color='black', xytext=(0, 9),\n",
        "                              textcoords='offset points')\n",
        "\n",
        "        # Porcentagem da meta alcançada\n",
        "        line_plot = sns.lineplot(x='MES', y='Meta_Alcancada_%', data=df, color='red', marker='o', label='Meta Alcançada (%)')\n",
        "\n",
        "        # Adicionar os valores nos pontos da linha\n",
        "        for i, value in enumerate(df['Meta_Alcancada_%']):\n",
        "            line_plot.text(i, value, f'{value:.2f}', color='red', ha='center', va='bottom', fontsize=12)\n",
        "\n",
        "        plt.title('Faturamento e Meta Alcançada (%)', fontsize=18)\n",
        "        plt.ylabel('Valor (R$) / Porcentagem (%)', fontsize=14)\n",
        "        plt.xlabel('Mês', fontsize=14)\n",
        "        plt.legend()\n",
        "\n",
        "        # Ajustar o layout para evitar sobrecarga nos elementos\n",
        "        plt.tight_layout()\n",
        "        plt.subplots_adjust(left=0.1, right=0.9, top=0.9, bottom=0.1)  # Aumenta as margens\n",
        "\n",
        "        # Salvar o gráfico em um arquivo temporário\n",
        "        output_file = '/content/grafico.png'\n",
        "        plt.savefig(output_file, dpi=300)  # Usar uma resolução mais alta\n",
        "        plt.close()  # Fechar o gráfico para evitar sobrecarga de memória\n",
        "\n",
        "        print(\"Gráfico gerado com sucesso.\")\n",
        "        return output_file  # Retornar o caminho do arquivo com a imagem gerada\n",
        "\n",
        "    except Exception as e:\n",
        "        print(f\"Erro ao gerar gráfico: {e}\")\n",
        "        return None\n",
        "\n",
        "# Criando a interface Gradio\n",
        "with gr.Blocks() as interface:\n",
        "    gr.Markdown(\"# Indicadores de Faturamento\")\n",
        "\n",
        "    # Exibir todos os dados, incluindo as novas colunas\n",
        "    gr.Dataframe(df.reset_index(drop=True), label=\"Tabela de Dados\")\n",
        "\n",
        "    # Botão para gerar gráfico\n",
        "    btn = gr.Button(\"Gerar Gráfico\")\n",
        "    img_output = gr.Image(type=\"filepath\", elem_id=\"grafico_img\", height=600, width=1000)  # Aumenta o tamanho da imagem\n",
        "\n",
        "    # Gerar gráfico ao clicar no botão\n",
        "    btn.click(gerar_grafico, outputs=img_output)\n",
        "\n",
        "# Executar a interface\n",
        "print(\"Iniciando a interface Gradio...\")\n",
        "interface.launch()\n",
        "\n",
        "# Gerar e exibir o QR Code\n",
        "link = \"https://434b13c74ecc621f5f.gradio.live\"\n",
        "qr = qrcode.make(link)\n",
        "qr.save(\"/content/qrcode.png\")\n",
        "Image(\"/content/qrcode.png\")\n"
      ],
      "metadata": {
        "id": "d4a5x4CGcOHH",
        "outputId": "baebb6c8-c2df-4c0d-fb22-a987054d4b68",
        "colab": {
          "base_uri": "https://localhost:8080/",
          "height": 1000
        }
      },
      "execution_count": 76,
      "outputs": [
        {
          "output_type": "stream",
          "name": "stdout",
          "text": [
            "Iniciando o download dos dados...\n",
            "Dados baixados com sucesso.\n",
            "Dados carregados:\n",
            "         MES   ANO  FATURAMENTO  META_FAT META_ALC  Meta_Alcancada_%  \\\n",
            "0    janeiro  2023          100       100      Sim        100.000000   \n",
            "1  fevereiro  2023           80       120      Não         66.666667   \n",
            "2      março  2023           60       140      Sim         42.857143   \n",
            "3      abril  2023           40       160      Não         25.000000   \n",
            "4       maio  2023           20       180      Sim         11.111111   \n",
            "\n",
            "   Taxa_Crescimento_%  \n",
            "0                 NaN  \n",
            "1          -20.000000  \n",
            "2          -25.000000  \n",
            "3          -33.333333  \n",
            "4          -50.000000  \n",
            "Iniciando a interface Gradio...\n",
            "Running Gradio in a Colab notebook requires sharing enabled. Automatically setting `share=True` (you can turn this off by setting `share=False` in `launch()` explicitly).\n",
            "\n",
            "Colab notebook detected. To show errors in colab notebook, set debug=True in launch()\n",
            "* Running on public URL: https://4ff6930cced5464482.gradio.live\n",
            "\n",
            "This share link expires in 72 hours. For free permanent hosting and GPU upgrades, run `gradio deploy` from the terminal in the working directory to deploy to Hugging Face Spaces (https://huggingface.co/spaces)\n"
          ]
        },
        {
          "output_type": "display_data",
          "data": {
            "text/plain": [
              "<IPython.core.display.HTML object>"
            ],
            "text/html": [
              "<div><iframe src=\"https://4ff6930cced5464482.gradio.live\" width=\"100%\" height=\"500\" allow=\"autoplay; camera; microphone; clipboard-read; clipboard-write;\" frameborder=\"0\" allowfullscreen></iframe></div>"
            ]
          },
          "metadata": {}
        },
        {
          "output_type": "execute_result",
          "data": {
            "image/png": "[encoded data removed]",
            "text/plain": [
              "<IPython.core.display.Image object>"
            ]
          },
          "metadata": {},
          "execution_count": 76
        }
      ]
    }
  ]
}