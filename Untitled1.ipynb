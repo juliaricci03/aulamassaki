{
  "nbformat": 4,
  "nbformat_minor": 0,
  "metadata": {
    "colab": {
      "provenance": [],
      "authorship_tag": "ABX9TyPJc/j3GbYgl5zW5X6uCQDG",
      "include_colab_link": true
    },
    "kernelspec": {
      "name": "python3",
      "display_name": "Python 3"
    },
    "language_info": {
      "name": "python"
    }
  },
  "cells": [
    {
      "cell_type": "markdown",
      "metadata": {
        "id": "view-in-github",
        "colab_type": "text"
      },
      "source": [
        "<a href=\"https://colab.research.google.com/github/juliaricci03/aulamassaki/blob/main/Untitled1.ipynb\" target=\"_parent\"><img src=\"https://colab.research.google.com/assets/colab-badge.svg\" alt=\"Open In Colab\"/></a>"
      ]
    },
    {
      "cell_type": "code",
      "execution_count": 2,
      "metadata": {
        "colab": {
          "base_uri": "https://localhost:8080/"
        },
        "id": "l8-f-rrXYdy6",
        "outputId": "23b80cf9-8bae-4cc9-9dff-e6c028a2a24f"
      },
      "outputs": [
        {
          "output_type": "stream",
          "name": "stdout",
          "text": [
            "0\n",
            "2\n",
            "4\n",
            "6\n",
            "8\n",
            "10\n",
            "12\n",
            "14\n",
            "16\n",
            "18\n",
            "20\n",
            "22\n",
            "24\n"
          ]
        }
      ],
      "source": [
        "for i in range (0,25,2):\n",
        "    print(i)\n",
        "\n",
        ""
      ]
    },
    {
      "cell_type": "code",
      "source": [
        "while True:\n",
        "  resposta = input(\"Deseja calcular a média? (sim/não): \").lower()\n",
        "  if resposta == \"sim\":\n",
        "    valor1 = float(input(\"Digite o valor1: \"))\n",
        "    valor2 = float(input(\"Digite o valor2: \"))\n",
        "    média = (valor1 + valor2)/2 # Cálculo da média aritmética\n",
        "    print(\"A média aritmética é:\", média)\n",
        "  else:\n",
        "    print(\"Encerrando o programa.\")\n",
        "    break"
      ],
      "metadata": {
        "colab": {
          "base_uri": "https://localhost:8080/"
        },
        "id": "F8n6IhV9gZIH",
        "outputId": "0bf85c66-1c33-4597-80ca-da7e7cd742de"
      },
      "execution_count": 10,
      "outputs": [
        {
          "output_type": "stream",
          "name": "stdout",
          "text": [
            "Deseja calcular a média? (sim/não): sim\n",
            "Digite o valor1: 10\n",
            "Digite o valor2: 10\n",
            "A média aritmética é: 10.0\n",
            "Deseja calcular a média? (sim/não): sim\n",
            "Digite o valor1: 5\n",
            "Digite o valor2: 8\n",
            "A média aritmética é: 6.5\n",
            "Deseja calcular a média? (sim/não): não\n",
            "Encerrando o programa.\n"
          ]
        }
      ]
    }
  ]
}