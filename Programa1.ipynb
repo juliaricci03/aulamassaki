{
  "nbformat": 4,
  "nbformat_minor": 0,
  "metadata": {
    "colab": {
      "provenance": [],
      "authorship_tag": "ABX9TyM6Vm5gG9NfnE0oo8tkvQEi",
      "include_colab_link": true
    },
    "kernelspec": {
      "name": "python3",
      "display_name": "Python 3"
    },
    "language_info": {
      "name": "python"
    }
  },
  "cells": [
    {
      "cell_type": "markdown",
      "metadata": {
        "id": "view-in-github",
        "colab_type": "text"
      },
      "source": [
        "<a href=\"https://colab.research.google.com/github/juliaricci03/aulamassaki/blob/main/Programa1.ipynb\" target=\"_parent\"><img src=\"https://colab.research.google.com/assets/colab-badge.svg\" alt=\"Open In Colab\"/></a>"
      ]
    },
    {
      "cell_type": "markdown",
      "source": [
        "#Explicações do Professor\n",
        "Nestas aulas aprendemos a criar nosso GitHub e os primeiros passos da linguaguem Phyton"
      ],
      "metadata": {
        "id": "WDL3GR1ZWXBU"
      }
    },
    {
      "cell_type": "code",
      "execution_count": 5,
      "metadata": {
        "colab": {
          "base_uri": "https://localhost:8080/"
        },
        "id": "X1tjF69fWOzN",
        "outputId": "d022dced-aaca-46bb-d955-760f8321f24c"
      },
      "outputs": [
        {
          "output_type": "stream",
          "name": "stdout",
          "text": [
            "digite valor: 9\n",
            "9\n",
            "Quociente =  4\n",
            "Resto =  1\n"
          ]
        }
      ],
      "source": [
        "#Comnetários\n",
        "num = int(input(\"digite valor: \"))\n",
        "print(num)\n",
        "quoc = num//2\n",
        "resto = num%2\n",
        "print(\"Quociente = \", quoc)\n",
        "print(\"Resto = \", resto)"
      ]
    },
    {
      "cell_type": "code",
      "source": [],
      "metadata": {
        "id": "lIZbwZctW1kX"
      },
      "execution_count": null,
      "outputs": []
    }
  ]
}